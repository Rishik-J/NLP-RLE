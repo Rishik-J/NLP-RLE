{
  "nbformat": 4,
  "nbformat_minor": 0,
  "metadata": {
    "colab": {
      "name": "Untitled0.ipynb",
      "provenance": []
    },
    "kernelspec": {
      "name": "python3",
      "display_name": "Python 3"
    },
    "language_info": {
      "name": "python"
    },
    "accelerator": "GPU",
    "gpuClass": "standard",
    "widgets": {
      "application/vnd.jupyter.widget-state+json": {
        "a8bf158a56b143a9bb429a89e50c6f6e": {
          "model_module": "@jupyter-widgets/controls",
          "model_name": "HBoxModel",
          "model_module_version": "1.5.0",
          "state": {
            "_dom_classes": [],
            "_model_module": "@jupyter-widgets/controls",
            "_model_module_version": "1.5.0",
            "_model_name": "HBoxModel",
            "_view_count": null,
            "_view_module": "@jupyter-widgets/controls",
            "_view_module_version": "1.5.0",
            "_view_name": "HBoxView",
            "box_style": "",
            "children": [
              "IPY_MODEL_0105eb4be1ec4282b9bb9c08c3236a60",
              "IPY_MODEL_09e5e225a3134f7d801bc83ba180e334",
              "IPY_MODEL_ebfe629455e84cba9eb0aa1ed274ae02"
            ],
            "layout": "IPY_MODEL_f3f8083b4f084627a9386a747a8c1832"
          }
        },
        "0105eb4be1ec4282b9bb9c08c3236a60": {
          "model_module": "@jupyter-widgets/controls",
          "model_name": "HTMLModel",
          "model_module_version": "1.5.0",
          "state": {
            "_dom_classes": [],
            "_model_module": "@jupyter-widgets/controls",
            "_model_module_version": "1.5.0",
            "_model_name": "HTMLModel",
            "_view_count": null,
            "_view_module": "@jupyter-widgets/controls",
            "_view_module_version": "1.5.0",
            "_view_name": "HTMLView",
            "description": "",
            "description_tooltip": null,
            "layout": "IPY_MODEL_df935903af314660ad863b41f2ab04a5",
            "placeholder": "​",
            "style": "IPY_MODEL_2c5f86153df84c20939a699471a83fdd",
            "value": "Downloading tokenizer_config.json: 100%"
          }
        },
        "09e5e225a3134f7d801bc83ba180e334": {
          "model_module": "@jupyter-widgets/controls",
          "model_name": "FloatProgressModel",
          "model_module_version": "1.5.0",
          "state": {
            "_dom_classes": [],
            "_model_module": "@jupyter-widgets/controls",
            "_model_module_version": "1.5.0",
            "_model_name": "FloatProgressModel",
            "_view_count": null,
            "_view_module": "@jupyter-widgets/controls",
            "_view_module_version": "1.5.0",
            "_view_name": "ProgressView",
            "bar_style": "success",
            "description": "",
            "description_tooltip": null,
            "layout": "IPY_MODEL_f37cba8d3e6a4ed096be9e2a42cfefad",
            "max": 1436,
            "min": 0,
            "orientation": "horizontal",
            "style": "IPY_MODEL_5a2de7523c0e4c809ed0f3f2e3b8fb63",
            "value": 1436
          }
        },
        "ebfe629455e84cba9eb0aa1ed274ae02": {
          "model_module": "@jupyter-widgets/controls",
          "model_name": "HTMLModel",
          "model_module_version": "1.5.0",
          "state": {
            "_dom_classes": [],
            "_model_module": "@jupyter-widgets/controls",
            "_model_module_version": "1.5.0",
            "_model_name": "HTMLModel",
            "_view_count": null,
            "_view_module": "@jupyter-widgets/controls",
            "_view_module_version": "1.5.0",
            "_view_name": "HTMLView",
            "description": "",
            "description_tooltip": null,
            "layout": "IPY_MODEL_4c82f60b27944d64bc8d097979fb6779",
            "placeholder": "​",
            "style": "IPY_MODEL_7e3f90b0a67a47aba63d7e7dda1c1be3",
            "value": " 1.40k/1.40k [00:00&lt;00:00, 37.0kB/s]"
          }
        },
        "f3f8083b4f084627a9386a747a8c1832": {
          "model_module": "@jupyter-widgets/base",
          "model_name": "LayoutModel",
          "model_module_version": "1.2.0",
          "state": {
            "_model_module": "@jupyter-widgets/base",
            "_model_module_version": "1.2.0",
            "_model_name": "LayoutModel",
            "_view_count": null,
            "_view_module": "@jupyter-widgets/base",
            "_view_module_version": "1.2.0",
            "_view_name": "LayoutView",
            "align_content": null,
            "align_items": null,
            "align_self": null,
            "border": null,
            "bottom": null,
            "display": null,
            "flex": null,
            "flex_flow": null,
            "grid_area": null,
            "grid_auto_columns": null,
            "grid_auto_flow": null,
            "grid_auto_rows": null,
            "grid_column": null,
            "grid_gap": null,
            "grid_row": null,
            "grid_template_areas": null,
            "grid_template_columns": null,
            "grid_template_rows": null,
            "height": null,
            "justify_content": null,
            "justify_items": null,
            "left": null,
            "margin": null,
            "max_height": null,
            "max_width": null,
            "min_height": null,
            "min_width": null,
            "object_fit": null,
            "object_position": null,
            "order": null,
            "overflow": null,
            "overflow_x": null,
            "overflow_y": null,
            "padding": null,
            "right": null,
            "top": null,
            "visibility": null,
            "width": null
          }
        },
        "df935903af314660ad863b41f2ab04a5": {
          "model_module": "@jupyter-widgets/base",
          "model_name": "LayoutModel",
          "model_module_version": "1.2.0",
          "state": {
            "_model_module": "@jupyter-widgets/base",
            "_model_module_version": "1.2.0",
            "_model_name": "LayoutModel",
            "_view_count": null,
            "_view_module": "@jupyter-widgets/base",
            "_view_module_version": "1.2.0",
            "_view_name": "LayoutView",
            "align_content": null,
            "align_items": null,
            "align_self": null,
            "border": null,
            "bottom": null,
            "display": null,
            "flex": null,
            "flex_flow": null,
            "grid_area": null,
            "grid_auto_columns": null,
            "grid_auto_flow": null,
            "grid_auto_rows": null,
            "grid_column": null,
            "grid_gap": null,
            "grid_row": null,
            "grid_template_areas": null,
            "grid_template_columns": null,
            "grid_template_rows": null,
            "height": null,
            "justify_content": null,
            "justify_items": null,
            "left": null,
            "margin": null,
            "max_height": null,
            "max_width": null,
            "min_height": null,
            "min_width": null,
            "object_fit": null,
            "object_position": null,
            "order": null,
            "overflow": null,
            "overflow_x": null,
            "overflow_y": null,
            "padding": null,
            "right": null,
            "top": null,
            "visibility": null,
            "width": null
          }
        },
        "2c5f86153df84c20939a699471a83fdd": {
          "model_module": "@jupyter-widgets/controls",
          "model_name": "DescriptionStyleModel",
          "model_module_version": "1.5.0",
          "state": {
            "_model_module": "@jupyter-widgets/controls",
            "_model_module_version": "1.5.0",
            "_model_name": "DescriptionStyleModel",
            "_view_count": null,
            "_view_module": "@jupyter-widgets/base",
            "_view_module_version": "1.2.0",
            "_view_name": "StyleView",
            "description_width": ""
          }
        },
        "f37cba8d3e6a4ed096be9e2a42cfefad": {
          "model_module": "@jupyter-widgets/base",
          "model_name": "LayoutModel",
          "model_module_version": "1.2.0",
          "state": {
            "_model_module": "@jupyter-widgets/base",
            "_model_module_version": "1.2.0",
            "_model_name": "LayoutModel",
            "_view_count": null,
            "_view_module": "@jupyter-widgets/base",
            "_view_module_version": "1.2.0",
            "_view_name": "LayoutView",
            "align_content": null,
            "align_items": null,
            "align_self": null,
            "border": null,
            "bottom": null,
            "display": null,
            "flex": null,
            "flex_flow": null,
            "grid_area": null,
            "grid_auto_columns": null,
            "grid_auto_flow": null,
            "grid_auto_rows": null,
            "grid_column": null,
            "grid_gap": null,
            "grid_row": null,
            "grid_template_areas": null,
            "grid_template_columns": null,
            "grid_template_rows": null,
            "height": null,
            "justify_content": null,
            "justify_items": null,
            "left": null,
            "margin": null,
            "max_height": null,
            "max_width": null,
            "min_height": null,
            "min_width": null,
            "object_fit": null,
            "object_position": null,
            "order": null,
            "overflow": null,
            "overflow_x": null,
            "overflow_y": null,
            "padding": null,
            "right": null,
            "top": null,
            "visibility": null,
            "width": null
          }
        },
        "5a2de7523c0e4c809ed0f3f2e3b8fb63": {
          "model_module": "@jupyter-widgets/controls",
          "model_name": "ProgressStyleModel",
          "model_module_version": "1.5.0",
          "state": {
            "_model_module": "@jupyter-widgets/controls",
            "_model_module_version": "1.5.0",
            "_model_name": "ProgressStyleModel",
            "_view_count": null,
            "_view_module": "@jupyter-widgets/base",
            "_view_module_version": "1.2.0",
            "_view_name": "StyleView",
            "bar_color": null,
            "description_width": ""
          }
        },
        "4c82f60b27944d64bc8d097979fb6779": {
          "model_module": "@jupyter-widgets/base",
          "model_name": "LayoutModel",
          "model_module_version": "1.2.0",
          "state": {
            "_model_module": "@jupyter-widgets/base",
            "_model_module_version": "1.2.0",
            "_model_name": "LayoutModel",
            "_view_count": null,
            "_view_module": "@jupyter-widgets/base",
            "_view_module_version": "1.2.0",
            "_view_name": "LayoutView",
            "align_content": null,
            "align_items": null,
            "align_self": null,
            "border": null,
            "bottom": null,
            "display": null,
            "flex": null,
            "flex_flow": null,
            "grid_area": null,
            "grid_auto_columns": null,
            "grid_auto_flow": null,
            "grid_auto_rows": null,
            "grid_column": null,
            "grid_gap": null,
            "grid_row": null,
            "grid_template_areas": null,
            "grid_template_columns": null,
            "grid_template_rows": null,
            "height": null,
            "justify_content": null,
            "justify_items": null,
            "left": null,
            "margin": null,
            "max_height": null,
            "max_width": null,
            "min_height": null,
            "min_width": null,
            "object_fit": null,
            "object_position": null,
            "order": null,
            "overflow": null,
            "overflow_x": null,
            "overflow_y": null,
            "padding": null,
            "right": null,
            "top": null,
            "visibility": null,
            "width": null
          }
        },
        "7e3f90b0a67a47aba63d7e7dda1c1be3": {
          "model_module": "@jupyter-widgets/controls",
          "model_name": "DescriptionStyleModel",
          "model_module_version": "1.5.0",
          "state": {
            "_model_module": "@jupyter-widgets/controls",
            "_model_module_version": "1.5.0",
            "_model_name": "DescriptionStyleModel",
            "_view_count": null,
            "_view_module": "@jupyter-widgets/base",
            "_view_module_version": "1.2.0",
            "_view_name": "StyleView",
            "description_width": ""
          }
        },
        "525c5abdd963497a851aa934fed36af9": {
          "model_module": "@jupyter-widgets/controls",
          "model_name": "HBoxModel",
          "model_module_version": "1.5.0",
          "state": {
            "_dom_classes": [],
            "_model_module": "@jupyter-widgets/controls",
            "_model_module_version": "1.5.0",
            "_model_name": "HBoxModel",
            "_view_count": null,
            "_view_module": "@jupyter-widgets/controls",
            "_view_module_version": "1.5.0",
            "_view_name": "HBoxView",
            "box_style": "",
            "children": [
              "IPY_MODEL_1894385522754181abb8c14408e92b44",
              "IPY_MODEL_37096984c0d3455f85d9d6463b9baed1",
              "IPY_MODEL_42c13b05862d43d9b1ab5b6a0f401b65"
            ],
            "layout": "IPY_MODEL_004f0876b58a4fefbb2a1674551dff5a"
          }
        },
        "1894385522754181abb8c14408e92b44": {
          "model_module": "@jupyter-widgets/controls",
          "model_name": "HTMLModel",
          "model_module_version": "1.5.0",
          "state": {
            "_dom_classes": [],
            "_model_module": "@jupyter-widgets/controls",
            "_model_module_version": "1.5.0",
            "_model_name": "HTMLModel",
            "_view_count": null,
            "_view_module": "@jupyter-widgets/controls",
            "_view_module_version": "1.5.0",
            "_view_name": "HTMLView",
            "description": "",
            "description_tooltip": null,
            "layout": "IPY_MODEL_e1436262e83a4836a4a18ae58c3cbfc8",
            "placeholder": "​",
            "style": "IPY_MODEL_9cee3bc1980149cf8a65bc9b6b7637b6",
            "value": "Downloading config.json: 100%"
          }
        },
        "37096984c0d3455f85d9d6463b9baed1": {
          "model_module": "@jupyter-widgets/controls",
          "model_name": "FloatProgressModel",
          "model_module_version": "1.5.0",
          "state": {
            "_dom_classes": [],
            "_model_module": "@jupyter-widgets/controls",
            "_model_module_version": "1.5.0",
            "_model_name": "FloatProgressModel",
            "_view_count": null,
            "_view_module": "@jupyter-widgets/controls",
            "_view_module_version": "1.5.0",
            "_view_name": "ProgressView",
            "bar_style": "success",
            "description": "",
            "description_tooltip": null,
            "layout": "IPY_MODEL_70016f1e0bb3437e850edad575b4c112",
            "max": 1274,
            "min": 0,
            "orientation": "horizontal",
            "style": "IPY_MODEL_2873b44fbb8c4d6c81549ab686b288a8",
            "value": 1274
          }
        },
        "42c13b05862d43d9b1ab5b6a0f401b65": {
          "model_module": "@jupyter-widgets/controls",
          "model_name": "HTMLModel",
          "model_module_version": "1.5.0",
          "state": {
            "_dom_classes": [],
            "_model_module": "@jupyter-widgets/controls",
            "_model_module_version": "1.5.0",
            "_model_name": "HTMLModel",
            "_view_count": null,
            "_view_module": "@jupyter-widgets/controls",
            "_view_module_version": "1.5.0",
            "_view_name": "HTMLView",
            "description": "",
            "description_tooltip": null,
            "layout": "IPY_MODEL_f10ef96da28d42b7a12e7c48291f5d17",
            "placeholder": "​",
            "style": "IPY_MODEL_d771712f058a417995c15ba820550f3e",
            "value": " 1.24k/1.24k [00:00&lt;00:00, 38.0kB/s]"
          }
        },
        "004f0876b58a4fefbb2a1674551dff5a": {
          "model_module": "@jupyter-widgets/base",
          "model_name": "LayoutModel",
          "model_module_version": "1.2.0",
          "state": {
            "_model_module": "@jupyter-widgets/base",
            "_model_module_version": "1.2.0",
            "_model_name": "LayoutModel",
            "_view_count": null,
            "_view_module": "@jupyter-widgets/base",
            "_view_module_version": "1.2.0",
            "_view_name": "LayoutView",
            "align_content": null,
            "align_items": null,
            "align_self": null,
            "border": null,
            "bottom": null,
            "display": null,
            "flex": null,
            "flex_flow": null,
            "grid_area": null,
            "grid_auto_columns": null,
            "grid_auto_flow": null,
            "grid_auto_rows": null,
            "grid_column": null,
            "grid_gap": null,
            "grid_row": null,
            "grid_template_areas": null,
            "grid_template_columns": null,
            "grid_template_rows": null,
            "height": null,
            "justify_content": null,
            "justify_items": null,
            "left": null,
            "margin": null,
            "max_height": null,
            "max_width": null,
            "min_height": null,
            "min_width": null,
            "object_fit": null,
            "object_position": null,
            "order": null,
            "overflow": null,
            "overflow_x": null,
            "overflow_y": null,
            "padding": null,
            "right": null,
            "top": null,
            "visibility": null,
            "width": null
          }
        },
        "e1436262e83a4836a4a18ae58c3cbfc8": {
          "model_module": "@jupyter-widgets/base",
          "model_name": "LayoutModel",
          "model_module_version": "1.2.0",
          "state": {
            "_model_module": "@jupyter-widgets/base",
            "_model_module_version": "1.2.0",
            "_model_name": "LayoutModel",
            "_view_count": null,
            "_view_module": "@jupyter-widgets/base",
            "_view_module_version": "1.2.0",
            "_view_name": "LayoutView",
            "align_content": null,
            "align_items": null,
            "align_self": null,
            "border": null,
            "bottom": null,
            "display": null,
            "flex": null,
            "flex_flow": null,
            "grid_area": null,
            "grid_auto_columns": null,
            "grid_auto_flow": null,
            "grid_auto_rows": null,
            "grid_column": null,
            "grid_gap": null,
            "grid_row": null,
            "grid_template_areas": null,
            "grid_template_columns": null,
            "grid_template_rows": null,
            "height": null,
            "justify_content": null,
            "justify_items": null,
            "left": null,
            "margin": null,
            "max_height": null,
            "max_width": null,
            "min_height": null,
            "min_width": null,
            "object_fit": null,
            "object_position": null,
            "order": null,
            "overflow": null,
            "overflow_x": null,
            "overflow_y": null,
            "padding": null,
            "right": null,
            "top": null,
            "visibility": null,
            "width": null
          }
        },
        "9cee3bc1980149cf8a65bc9b6b7637b6": {
          "model_module": "@jupyter-widgets/controls",
          "model_name": "DescriptionStyleModel",
          "model_module_version": "1.5.0",
          "state": {
            "_model_module": "@jupyter-widgets/controls",
            "_model_module_version": "1.5.0",
            "_model_name": "DescriptionStyleModel",
            "_view_count": null,
            "_view_module": "@jupyter-widgets/base",
            "_view_module_version": "1.2.0",
            "_view_name": "StyleView",
            "description_width": ""
          }
        },
        "70016f1e0bb3437e850edad575b4c112": {
          "model_module": "@jupyter-widgets/base",
          "model_name": "LayoutModel",
          "model_module_version": "1.2.0",
          "state": {
            "_model_module": "@jupyter-widgets/base",
            "_model_module_version": "1.2.0",
            "_model_name": "LayoutModel",
            "_view_count": null,
            "_view_module": "@jupyter-widgets/base",
            "_view_module_version": "1.2.0",
            "_view_name": "LayoutView",
            "align_content": null,
            "align_items": null,
            "align_self": null,
            "border": null,
            "bottom": null,
            "display": null,
            "flex": null,
            "flex_flow": null,
            "grid_area": null,
            "grid_auto_columns": null,
            "grid_auto_flow": null,
            "grid_auto_rows": null,
            "grid_column": null,
            "grid_gap": null,
            "grid_row": null,
            "grid_template_areas": null,
            "grid_template_columns": null,
            "grid_template_rows": null,
            "height": null,
            "justify_content": null,
            "justify_items": null,
            "left": null,
            "margin": null,
            "max_height": null,
            "max_width": null,
            "min_height": null,
            "min_width": null,
            "object_fit": null,
            "object_position": null,
            "order": null,
            "overflow": null,
            "overflow_x": null,
            "overflow_y": null,
            "padding": null,
            "right": null,
            "top": null,
            "visibility": null,
            "width": null
          }
        },
        "2873b44fbb8c4d6c81549ab686b288a8": {
          "model_module": "@jupyter-widgets/controls",
          "model_name": "ProgressStyleModel",
          "model_module_version": "1.5.0",
          "state": {
            "_model_module": "@jupyter-widgets/controls",
            "_model_module_version": "1.5.0",
            "_model_name": "ProgressStyleModel",
            "_view_count": null,
            "_view_module": "@jupyter-widgets/base",
            "_view_module_version": "1.2.0",
            "_view_name": "StyleView",
            "bar_color": null,
            "description_width": ""
          }
        },
        "f10ef96da28d42b7a12e7c48291f5d17": {
          "model_module": "@jupyter-widgets/base",
          "model_name": "LayoutModel",
          "model_module_version": "1.2.0",
          "state": {
            "_model_module": "@jupyter-widgets/base",
            "_model_module_version": "1.2.0",
            "_model_name": "LayoutModel",
            "_view_count": null,
            "_view_module": "@jupyter-widgets/base",
            "_view_module_version": "1.2.0",
            "_view_name": "LayoutView",
            "align_content": null,
            "align_items": null,
            "align_self": null,
            "border": null,
            "bottom": null,
            "display": null,
            "flex": null,
            "flex_flow": null,
            "grid_area": null,
            "grid_auto_columns": null,
            "grid_auto_flow": null,
            "grid_auto_rows": null,
            "grid_column": null,
            "grid_gap": null,
            "grid_row": null,
            "grid_template_areas": null,
            "grid_template_columns": null,
            "grid_template_rows": null,
            "height": null,
            "justify_content": null,
            "justify_items": null,
            "left": null,
            "margin": null,
            "max_height": null,
            "max_width": null,
            "min_height": null,
            "min_width": null,
            "object_fit": null,
            "object_position": null,
            "order": null,
            "overflow": null,
            "overflow_x": null,
            "overflow_y": null,
            "padding": null,
            "right": null,
            "top": null,
            "visibility": null,
            "width": null
          }
        },
        "d771712f058a417995c15ba820550f3e": {
          "model_module": "@jupyter-widgets/controls",
          "model_name": "DescriptionStyleModel",
          "model_module_version": "1.5.0",
          "state": {
            "_model_module": "@jupyter-widgets/controls",
            "_model_module_version": "1.5.0",
            "_model_name": "DescriptionStyleModel",
            "_view_count": null,
            "_view_module": "@jupyter-widgets/base",
            "_view_module_version": "1.2.0",
            "_view_name": "StyleView",
            "description_width": ""
          }
        },
        "2e291237377f4a8b9aeb527c8f2f3413": {
          "model_module": "@jupyter-widgets/controls",
          "model_name": "HBoxModel",
          "model_module_version": "1.5.0",
          "state": {
            "_dom_classes": [],
            "_model_module": "@jupyter-widgets/controls",
            "_model_module_version": "1.5.0",
            "_model_name": "HBoxModel",
            "_view_count": null,
            "_view_module": "@jupyter-widgets/controls",
            "_view_module_version": "1.5.0",
            "_view_name": "HBoxView",
            "box_style": "",
            "children": [
              "IPY_MODEL_87ae4d1f5df140d5b67b440bb161cc33",
              "IPY_MODEL_ed7fb10cd76c4da0b3e8da6f654ab279",
              "IPY_MODEL_d2b2cc92ef984779a93a5c03391870b9"
            ],
            "layout": "IPY_MODEL_5e7aa05be26244488bcc4cf93ffbbe11"
          }
        },
        "87ae4d1f5df140d5b67b440bb161cc33": {
          "model_module": "@jupyter-widgets/controls",
          "model_name": "HTMLModel",
          "model_module_version": "1.5.0",
          "state": {
            "_dom_classes": [],
            "_model_module": "@jupyter-widgets/controls",
            "_model_module_version": "1.5.0",
            "_model_name": "HTMLModel",
            "_view_count": null,
            "_view_module": "@jupyter-widgets/controls",
            "_view_module_version": "1.5.0",
            "_view_name": "HTMLView",
            "description": "",
            "description_tooltip": null,
            "layout": "IPY_MODEL_8bb0c6815f0c4aa28a0395d6ae3c5225",
            "placeholder": "​",
            "style": "IPY_MODEL_680cfd0b63bb4ce292ad1671e9f8f1ab",
            "value": "Downloading spiece.model: 100%"
          }
        },
        "ed7fb10cd76c4da0b3e8da6f654ab279": {
          "model_module": "@jupyter-widgets/controls",
          "model_name": "FloatProgressModel",
          "model_module_version": "1.5.0",
          "state": {
            "_dom_classes": [],
            "_model_module": "@jupyter-widgets/controls",
            "_model_module_version": "1.5.0",
            "_model_name": "FloatProgressModel",
            "_view_count": null,
            "_view_module": "@jupyter-widgets/controls",
            "_view_module_version": "1.5.0",
            "_view_name": "ProgressView",
            "bar_style": "success",
            "description": "",
            "description_tooltip": null,
            "layout": "IPY_MODEL_606b9a1e44e14b3ab7bae053cbfc60c3",
            "max": 1912529,
            "min": 0,
            "orientation": "horizontal",
            "style": "IPY_MODEL_c6b1f788e4384873b08f29e8fcf5bec2",
            "value": 1912529
          }
        },
        "d2b2cc92ef984779a93a5c03391870b9": {
          "model_module": "@jupyter-widgets/controls",
          "model_name": "HTMLModel",
          "model_module_version": "1.5.0",
          "state": {
            "_dom_classes": [],
            "_model_module": "@jupyter-widgets/controls",
            "_model_module_version": "1.5.0",
            "_model_name": "HTMLModel",
            "_view_count": null,
            "_view_module": "@jupyter-widgets/controls",
            "_view_module_version": "1.5.0",
            "_view_name": "HTMLView",
            "description": "",
            "description_tooltip": null,
            "layout": "IPY_MODEL_ea60781cd81449388572d6c4c5aa1344",
            "placeholder": "​",
            "style": "IPY_MODEL_719f4a71e952496c9d0221d8e6f3844f",
            "value": " 1.82M/1.82M [00:01&lt;00:00, 1.74MB/s]"
          }
        },
        "5e7aa05be26244488bcc4cf93ffbbe11": {
          "model_module": "@jupyter-widgets/base",
          "model_name": "LayoutModel",
          "model_module_version": "1.2.0",
          "state": {
            "_model_module": "@jupyter-widgets/base",
            "_model_module_version": "1.2.0",
            "_model_name": "LayoutModel",
            "_view_count": null,
            "_view_module": "@jupyter-widgets/base",
            "_view_module_version": "1.2.0",
            "_view_name": "LayoutView",
            "align_content": null,
            "align_items": null,
            "align_self": null,
            "border": null,
            "bottom": null,
            "display": null,
            "flex": null,
            "flex_flow": null,
            "grid_area": null,
            "grid_auto_columns": null,
            "grid_auto_flow": null,
            "grid_auto_rows": null,
            "grid_column": null,
            "grid_gap": null,
            "grid_row": null,
            "grid_template_areas": null,
            "grid_template_columns": null,
            "grid_template_rows": null,
            "height": null,
            "justify_content": null,
            "justify_items": null,
            "left": null,
            "margin": null,
            "max_height": null,
            "max_width": null,
            "min_height": null,
            "min_width": null,
            "object_fit": null,
            "object_position": null,
            "order": null,
            "overflow": null,
            "overflow_x": null,
            "overflow_y": null,
            "padding": null,
            "right": null,
            "top": null,
            "visibility": null,
            "width": null
          }
        },
        "8bb0c6815f0c4aa28a0395d6ae3c5225": {
          "model_module": "@jupyter-widgets/base",
          "model_name": "LayoutModel",
          "model_module_version": "1.2.0",
          "state": {
            "_model_module": "@jupyter-widgets/base",
            "_model_module_version": "1.2.0",
            "_model_name": "LayoutModel",
            "_view_count": null,
            "_view_module": "@jupyter-widgets/base",
            "_view_module_version": "1.2.0",
            "_view_name": "LayoutView",
            "align_content": null,
            "align_items": null,
            "align_self": null,
            "border": null,
            "bottom": null,
            "display": null,
            "flex": null,
            "flex_flow": null,
            "grid_area": null,
            "grid_auto_columns": null,
            "grid_auto_flow": null,
            "grid_auto_rows": null,
            "grid_column": null,
            "grid_gap": null,
            "grid_row": null,
            "grid_template_areas": null,
            "grid_template_columns": null,
            "grid_template_rows": null,
            "height": null,
            "justify_content": null,
            "justify_items": null,
            "left": null,
            "margin": null,
            "max_height": null,
            "max_width": null,
            "min_height": null,
            "min_width": null,
            "object_fit": null,
            "object_position": null,
            "order": null,
            "overflow": null,
            "overflow_x": null,
            "overflow_y": null,
            "padding": null,
            "right": null,
            "top": null,
            "visibility": null,
            "width": null
          }
        },
        "680cfd0b63bb4ce292ad1671e9f8f1ab": {
          "model_module": "@jupyter-widgets/controls",
          "model_name": "DescriptionStyleModel",
          "model_module_version": "1.5.0",
          "state": {
            "_model_module": "@jupyter-widgets/controls",
            "_model_module_version": "1.5.0",
            "_model_name": "DescriptionStyleModel",
            "_view_count": null,
            "_view_module": "@jupyter-widgets/base",
            "_view_module_version": "1.2.0",
            "_view_name": "StyleView",
            "description_width": ""
          }
        },
        "606b9a1e44e14b3ab7bae053cbfc60c3": {
          "model_module": "@jupyter-widgets/base",
          "model_name": "LayoutModel",
          "model_module_version": "1.2.0",
          "state": {
            "_model_module": "@jupyter-widgets/base",
            "_model_module_version": "1.2.0",
            "_model_name": "LayoutModel",
            "_view_count": null,
            "_view_module": "@jupyter-widgets/base",
            "_view_module_version": "1.2.0",
            "_view_name": "LayoutView",
            "align_content": null,
            "align_items": null,
            "align_self": null,
            "border": null,
            "bottom": null,
            "display": null,
            "flex": null,
            "flex_flow": null,
            "grid_area": null,
            "grid_auto_columns": null,
            "grid_auto_flow": null,
            "grid_auto_rows": null,
            "grid_column": null,
            "grid_gap": null,
            "grid_row": null,
            "grid_template_areas": null,
            "grid_template_columns": null,
            "grid_template_rows": null,
            "height": null,
            "justify_content": null,
            "justify_items": null,
            "left": null,
            "margin": null,
            "max_height": null,
            "max_width": null,
            "min_height": null,
            "min_width": null,
            "object_fit": null,
            "object_position": null,
            "order": null,
            "overflow": null,
            "overflow_x": null,
            "overflow_y": null,
            "padding": null,
            "right": null,
            "top": null,
            "visibility": null,
            "width": null
          }
        },
        "c6b1f788e4384873b08f29e8fcf5bec2": {
          "model_module": "@jupyter-widgets/controls",
          "model_name": "ProgressStyleModel",
          "model_module_version": "1.5.0",
          "state": {
            "_model_module": "@jupyter-widgets/controls",
            "_model_module_version": "1.5.0",
            "_model_name": "ProgressStyleModel",
            "_view_count": null,
            "_view_module": "@jupyter-widgets/base",
            "_view_module_version": "1.2.0",
            "_view_name": "StyleView",
            "bar_color": null,
            "description_width": ""
          }
        },
        "ea60781cd81449388572d6c4c5aa1344": {
          "model_module": "@jupyter-widgets/base",
          "model_name": "LayoutModel",
          "model_module_version": "1.2.0",
          "state": {
            "_model_module": "@jupyter-widgets/base",
            "_model_module_version": "1.2.0",
            "_model_name": "LayoutModel",
            "_view_count": null,
            "_view_module": "@jupyter-widgets/base",
            "_view_module_version": "1.2.0",
            "_view_name": "LayoutView",
            "align_content": null,
            "align_items": null,
            "align_self": null,
            "border": null,
            "bottom": null,
            "display": null,
            "flex": null,
            "flex_flow": null,
            "grid_area": null,
            "grid_auto_columns": null,
            "grid_auto_flow": null,
            "grid_auto_rows": null,
            "grid_column": null,
            "grid_gap": null,
            "grid_row": null,
            "grid_template_areas": null,
            "grid_template_columns": null,
            "grid_template_rows": null,
            "height": null,
            "justify_content": null,
            "justify_items": null,
            "left": null,
            "margin": null,
            "max_height": null,
            "max_width": null,
            "min_height": null,
            "min_width": null,
            "object_fit": null,
            "object_position": null,
            "order": null,
            "overflow": null,
            "overflow_x": null,
            "overflow_y": null,
            "padding": null,
            "right": null,
            "top": null,
            "visibility": null,
            "width": null
          }
        },
        "719f4a71e952496c9d0221d8e6f3844f": {
          "model_module": "@jupyter-widgets/controls",
          "model_name": "DescriptionStyleModel",
          "model_module_version": "1.5.0",
          "state": {
            "_model_module": "@jupyter-widgets/controls",
            "_model_module_version": "1.5.0",
            "_model_name": "DescriptionStyleModel",
            "_view_count": null,
            "_view_module": "@jupyter-widgets/base",
            "_view_module_version": "1.2.0",
            "_view_name": "StyleView",
            "description_width": ""
          }
        },
        "3227143296fa4ff387f5bb6d5f99b246": {
          "model_module": "@jupyter-widgets/controls",
          "model_name": "HBoxModel",
          "model_module_version": "1.5.0",
          "state": {
            "_dom_classes": [],
            "_model_module": "@jupyter-widgets/controls",
            "_model_module_version": "1.5.0",
            "_model_name": "HBoxModel",
            "_view_count": null,
            "_view_module": "@jupyter-widgets/controls",
            "_view_module_version": "1.5.0",
            "_view_name": "HBoxView",
            "box_style": "",
            "children": [
              "IPY_MODEL_1a64325bb0fb49ef89fdf95547b90993",
              "IPY_MODEL_cd638f01b8404340b51ba404a663e2a3",
              "IPY_MODEL_b2cf647d0f57445baf1b3d85cbbb13c0"
            ],
            "layout": "IPY_MODEL_213b744a26004c26a52500c22933b7ef"
          }
        },
        "1a64325bb0fb49ef89fdf95547b90993": {
          "model_module": "@jupyter-widgets/controls",
          "model_name": "HTMLModel",
          "model_module_version": "1.5.0",
          "state": {
            "_dom_classes": [],
            "_model_module": "@jupyter-widgets/controls",
            "_model_module_version": "1.5.0",
            "_model_name": "HTMLModel",
            "_view_count": null,
            "_view_module": "@jupyter-widgets/controls",
            "_view_module_version": "1.5.0",
            "_view_name": "HTMLView",
            "description": "",
            "description_tooltip": null,
            "layout": "IPY_MODEL_86f92937a7c348e9ada648cf40d51f01",
            "placeholder": "​",
            "style": "IPY_MODEL_64d03a1f972e4be097e2be2112af7334",
            "value": "Downloading special_tokens_map.json: 100%"
          }
        },
        "cd638f01b8404340b51ba404a663e2a3": {
          "model_module": "@jupyter-widgets/controls",
          "model_name": "FloatProgressModel",
          "model_module_version": "1.5.0",
          "state": {
            "_dom_classes": [],
            "_model_module": "@jupyter-widgets/controls",
            "_model_module_version": "1.5.0",
            "_model_name": "FloatProgressModel",
            "_view_count": null,
            "_view_module": "@jupyter-widgets/controls",
            "_view_module_version": "1.5.0",
            "_view_name": "ProgressView",
            "bar_style": "success",
            "description": "",
            "description_tooltip": null,
            "layout": "IPY_MODEL_4639e6d8b59343568949b7a862424257",
            "max": 1341,
            "min": 0,
            "orientation": "horizontal",
            "style": "IPY_MODEL_d2929aa6c0d241c7926968bc06364c68",
            "value": 1341
          }
        },
        "b2cf647d0f57445baf1b3d85cbbb13c0": {
          "model_module": "@jupyter-widgets/controls",
          "model_name": "HTMLModel",
          "model_module_version": "1.5.0",
          "state": {
            "_dom_classes": [],
            "_model_module": "@jupyter-widgets/controls",
            "_model_module_version": "1.5.0",
            "_model_name": "HTMLModel",
            "_view_count": null,
            "_view_module": "@jupyter-widgets/controls",
            "_view_module_version": "1.5.0",
            "_view_name": "HTMLView",
            "description": "",
            "description_tooltip": null,
            "layout": "IPY_MODEL_9ed2ffacc368417aa9e1dc5d4e045438",
            "placeholder": "​",
            "style": "IPY_MODEL_1cf8e09e6c12465da0bb7c5cb05927ca",
            "value": " 1.31k/1.31k [00:00&lt;00:00, 34.2kB/s]"
          }
        },
        "213b744a26004c26a52500c22933b7ef": {
          "model_module": "@jupyter-widgets/base",
          "model_name": "LayoutModel",
          "model_module_version": "1.2.0",
          "state": {
            "_model_module": "@jupyter-widgets/base",
            "_model_module_version": "1.2.0",
            "_model_name": "LayoutModel",
            "_view_count": null,
            "_view_module": "@jupyter-widgets/base",
            "_view_module_version": "1.2.0",
            "_view_name": "LayoutView",
            "align_content": null,
            "align_items": null,
            "align_self": null,
            "border": null,
            "bottom": null,
            "display": null,
            "flex": null,
            "flex_flow": null,
            "grid_area": null,
            "grid_auto_columns": null,
            "grid_auto_flow": null,
            "grid_auto_rows": null,
            "grid_column": null,
            "grid_gap": null,
            "grid_row": null,
            "grid_template_areas": null,
            "grid_template_columns": null,
            "grid_template_rows": null,
            "height": null,
            "justify_content": null,
            "justify_items": null,
            "left": null,
            "margin": null,
            "max_height": null,
            "max_width": null,
            "min_height": null,
            "min_width": null,
            "object_fit": null,
            "object_position": null,
            "order": null,
            "overflow": null,
            "overflow_x": null,
            "overflow_y": null,
            "padding": null,
            "right": null,
            "top": null,
            "visibility": null,
            "width": null
          }
        },
        "86f92937a7c348e9ada648cf40d51f01": {
          "model_module": "@jupyter-widgets/base",
          "model_name": "LayoutModel",
          "model_module_version": "1.2.0",
          "state": {
            "_model_module": "@jupyter-widgets/base",
            "_model_module_version": "1.2.0",
            "_model_name": "LayoutModel",
            "_view_count": null,
            "_view_module": "@jupyter-widgets/base",
            "_view_module_version": "1.2.0",
            "_view_name": "LayoutView",
            "align_content": null,
            "align_items": null,
            "align_self": null,
            "border": null,
            "bottom": null,
            "display": null,
            "flex": null,
            "flex_flow": null,
            "grid_area": null,
            "grid_auto_columns": null,
            "grid_auto_flow": null,
            "grid_auto_rows": null,
            "grid_column": null,
            "grid_gap": null,
            "grid_row": null,
            "grid_template_areas": null,
            "grid_template_columns": null,
            "grid_template_rows": null,
            "height": null,
            "justify_content": null,
            "justify_items": null,
            "left": null,
            "margin": null,
            "max_height": null,
            "max_width": null,
            "min_height": null,
            "min_width": null,
            "object_fit": null,
            "object_position": null,
            "order": null,
            "overflow": null,
            "overflow_x": null,
            "overflow_y": null,
            "padding": null,
            "right": null,
            "top": null,
            "visibility": null,
            "width": null
          }
        },
        "64d03a1f972e4be097e2be2112af7334": {
          "model_module": "@jupyter-widgets/controls",
          "model_name": "DescriptionStyleModel",
          "model_module_version": "1.5.0",
          "state": {
            "_model_module": "@jupyter-widgets/controls",
            "_model_module_version": "1.5.0",
            "_model_name": "DescriptionStyleModel",
            "_view_count": null,
            "_view_module": "@jupyter-widgets/base",
            "_view_module_version": "1.2.0",
            "_view_name": "StyleView",
            "description_width": ""
          }
        },
        "4639e6d8b59343568949b7a862424257": {
          "model_module": "@jupyter-widgets/base",
          "model_name": "LayoutModel",
          "model_module_version": "1.2.0",
          "state": {
            "_model_module": "@jupyter-widgets/base",
            "_model_module_version": "1.2.0",
            "_model_name": "LayoutModel",
            "_view_count": null,
            "_view_module": "@jupyter-widgets/base",
            "_view_module_version": "1.2.0",
            "_view_name": "LayoutView",
            "align_content": null,
            "align_items": null,
            "align_self": null,
            "border": null,
            "bottom": null,
            "display": null,
            "flex": null,
            "flex_flow": null,
            "grid_area": null,
            "grid_auto_columns": null,
            "grid_auto_flow": null,
            "grid_auto_rows": null,
            "grid_column": null,
            "grid_gap": null,
            "grid_row": null,
            "grid_template_areas": null,
            "grid_template_columns": null,
            "grid_template_rows": null,
            "height": null,
            "justify_content": null,
            "justify_items": null,
            "left": null,
            "margin": null,
            "max_height": null,
            "max_width": null,
            "min_height": null,
            "min_width": null,
            "object_fit": null,
            "object_position": null,
            "order": null,
            "overflow": null,
            "overflow_x": null,
            "overflow_y": null,
            "padding": null,
            "right": null,
            "top": null,
            "visibility": null,
            "width": null
          }
        },
        "d2929aa6c0d241c7926968bc06364c68": {
          "model_module": "@jupyter-widgets/controls",
          "model_name": "ProgressStyleModel",
          "model_module_version": "1.5.0",
          "state": {
            "_model_module": "@jupyter-widgets/controls",
            "_model_module_version": "1.5.0",
            "_model_name": "ProgressStyleModel",
            "_view_count": null,
            "_view_module": "@jupyter-widgets/base",
            "_view_module_version": "1.2.0",
            "_view_name": "StyleView",
            "bar_color": null,
            "description_width": ""
          }
        },
        "9ed2ffacc368417aa9e1dc5d4e045438": {
          "model_module": "@jupyter-widgets/base",
          "model_name": "LayoutModel",
          "model_module_version": "1.2.0",
          "state": {
            "_model_module": "@jupyter-widgets/base",
            "_model_module_version": "1.2.0",
            "_model_name": "LayoutModel",
            "_view_count": null,
            "_view_module": "@jupyter-widgets/base",
            "_view_module_version": "1.2.0",
            "_view_name": "LayoutView",
            "align_content": null,
            "align_items": null,
            "align_self": null,
            "border": null,
            "bottom": null,
            "display": null,
            "flex": null,
            "flex_flow": null,
            "grid_area": null,
            "grid_auto_columns": null,
            "grid_auto_flow": null,
            "grid_auto_rows": null,
            "grid_column": null,
            "grid_gap": null,
            "grid_row": null,
            "grid_template_areas": null,
            "grid_template_columns": null,
            "grid_template_rows": null,
            "height": null,
            "justify_content": null,
            "justify_items": null,
            "left": null,
            "margin": null,
            "max_height": null,
            "max_width": null,
            "min_height": null,
            "min_width": null,
            "object_fit": null,
            "object_position": null,
            "order": null,
            "overflow": null,
            "overflow_x": null,
            "overflow_y": null,
            "padding": null,
            "right": null,
            "top": null,
            "visibility": null,
            "width": null
          }
        },
        "1cf8e09e6c12465da0bb7c5cb05927ca": {
          "model_module": "@jupyter-widgets/controls",
          "model_name": "DescriptionStyleModel",
          "model_module_version": "1.5.0",
          "state": {
            "_model_module": "@jupyter-widgets/controls",
            "_model_module_version": "1.5.0",
            "_model_name": "DescriptionStyleModel",
            "_view_count": null,
            "_view_module": "@jupyter-widgets/base",
            "_view_module_version": "1.2.0",
            "_view_name": "StyleView",
            "description_width": ""
          }
        },
        "d9dfbf4cab984ccf9e4ffb5b83c35255": {
          "model_module": "@jupyter-widgets/controls",
          "model_name": "HBoxModel",
          "model_module_version": "1.5.0",
          "state": {
            "_dom_classes": [],
            "_model_module": "@jupyter-widgets/controls",
            "_model_module_version": "1.5.0",
            "_model_name": "HBoxModel",
            "_view_count": null,
            "_view_module": "@jupyter-widgets/controls",
            "_view_module_version": "1.5.0",
            "_view_name": "HBoxView",
            "box_style": "",
            "children": [
              "IPY_MODEL_641a595a49b943c1b8c4b17272b94a1f",
              "IPY_MODEL_d36d61281c974e919d947bbf77d6ad25",
              "IPY_MODEL_5338a98a7c134de1a5b1817bc59de10c"
            ],
            "layout": "IPY_MODEL_993f6ea37ee241859be0ce3d6ca4b712"
          }
        },
        "641a595a49b943c1b8c4b17272b94a1f": {
          "model_module": "@jupyter-widgets/controls",
          "model_name": "HTMLModel",
          "model_module_version": "1.5.0",
          "state": {
            "_dom_classes": [],
            "_model_module": "@jupyter-widgets/controls",
            "_model_module_version": "1.5.0",
            "_model_name": "HTMLModel",
            "_view_count": null,
            "_view_module": "@jupyter-widgets/controls",
            "_view_module_version": "1.5.0",
            "_view_name": "HTMLView",
            "description": "",
            "description_tooltip": null,
            "layout": "IPY_MODEL_e7114385159243dfa9c3988b8fc8cb62",
            "placeholder": "​",
            "style": "IPY_MODEL_760619b0fd1d46dfa9a133e4a293e21f",
            "value": "Downloading pytorch_model.bin: 100%"
          }
        },
        "d36d61281c974e919d947bbf77d6ad25": {
          "model_module": "@jupyter-widgets/controls",
          "model_name": "FloatProgressModel",
          "model_module_version": "1.5.0",
          "state": {
            "_dom_classes": [],
            "_model_module": "@jupyter-widgets/controls",
            "_model_module_version": "1.5.0",
            "_model_name": "FloatProgressModel",
            "_view_count": null,
            "_view_module": "@jupyter-widgets/controls",
            "_view_module_version": "1.5.0",
            "_view_name": "ProgressView",
            "bar_style": "success",
            "description": "",
            "description_tooltip": null,
            "layout": "IPY_MODEL_deb4a3e048c84c0b83d39df070ac19c8",
            "max": 2275419259,
            "min": 0,
            "orientation": "horizontal",
            "style": "IPY_MODEL_f03678b7b3f94584a1915bdcb337731f",
            "value": 2275419259
          }
        },
        "5338a98a7c134de1a5b1817bc59de10c": {
          "model_module": "@jupyter-widgets/controls",
          "model_name": "HTMLModel",
          "model_module_version": "1.5.0",
          "state": {
            "_dom_classes": [],
            "_model_module": "@jupyter-widgets/controls",
            "_model_module_version": "1.5.0",
            "_model_name": "HTMLModel",
            "_view_count": null,
            "_view_module": "@jupyter-widgets/controls",
            "_view_module_version": "1.5.0",
            "_view_name": "HTMLView",
            "description": "",
            "description_tooltip": null,
            "layout": "IPY_MODEL_3f93517686d84d0d974816f962170562",
            "placeholder": "​",
            "style": "IPY_MODEL_29b1d2a86b4d483fb7a850999db72cf3",
            "value": " 2.12G/2.12G [02:44&lt;00:00, 18.3MB/s]"
          }
        },
        "993f6ea37ee241859be0ce3d6ca4b712": {
          "model_module": "@jupyter-widgets/base",
          "model_name": "LayoutModel",
          "model_module_version": "1.2.0",
          "state": {
            "_model_module": "@jupyter-widgets/base",
            "_model_module_version": "1.2.0",
            "_model_name": "LayoutModel",
            "_view_count": null,
            "_view_module": "@jupyter-widgets/base",
            "_view_module_version": "1.2.0",
            "_view_name": "LayoutView",
            "align_content": null,
            "align_items": null,
            "align_self": null,
            "border": null,
            "bottom": null,
            "display": null,
            "flex": null,
            "flex_flow": null,
            "grid_area": null,
            "grid_auto_columns": null,
            "grid_auto_flow": null,
            "grid_auto_rows": null,
            "grid_column": null,
            "grid_gap": null,
            "grid_row": null,
            "grid_template_areas": null,
            "grid_template_columns": null,
            "grid_template_rows": null,
            "height": null,
            "justify_content": null,
            "justify_items": null,
            "left": null,
            "margin": null,
            "max_height": null,
            "max_width": null,
            "min_height": null,
            "min_width": null,
            "object_fit": null,
            "object_position": null,
            "order": null,
            "overflow": null,
            "overflow_x": null,
            "overflow_y": null,
            "padding": null,
            "right": null,
            "top": null,
            "visibility": null,
            "width": null
          }
        },
        "e7114385159243dfa9c3988b8fc8cb62": {
          "model_module": "@jupyter-widgets/base",
          "model_name": "LayoutModel",
          "model_module_version": "1.2.0",
          "state": {
            "_model_module": "@jupyter-widgets/base",
            "_model_module_version": "1.2.0",
            "_model_name": "LayoutModel",
            "_view_count": null,
            "_view_module": "@jupyter-widgets/base",
            "_view_module_version": "1.2.0",
            "_view_name": "LayoutView",
            "align_content": null,
            "align_items": null,
            "align_self": null,
            "border": null,
            "bottom": null,
            "display": null,
            "flex": null,
            "flex_flow": null,
            "grid_area": null,
            "grid_auto_columns": null,
            "grid_auto_flow": null,
            "grid_auto_rows": null,
            "grid_column": null,
            "grid_gap": null,
            "grid_row": null,
            "grid_template_areas": null,
            "grid_template_columns": null,
            "grid_template_rows": null,
            "height": null,
            "justify_content": null,
            "justify_items": null,
            "left": null,
            "margin": null,
            "max_height": null,
            "max_width": null,
            "min_height": null,
            "min_width": null,
            "object_fit": null,
            "object_position": null,
            "order": null,
            "overflow": null,
            "overflow_x": null,
            "overflow_y": null,
            "padding": null,
            "right": null,
            "top": null,
            "visibility": null,
            "width": null
          }
        },
        "760619b0fd1d46dfa9a133e4a293e21f": {
          "model_module": "@jupyter-widgets/controls",
          "model_name": "DescriptionStyleModel",
          "model_module_version": "1.5.0",
          "state": {
            "_model_module": "@jupyter-widgets/controls",
            "_model_module_version": "1.5.0",
            "_model_name": "DescriptionStyleModel",
            "_view_count": null,
            "_view_module": "@jupyter-widgets/base",
            "_view_module_version": "1.2.0",
            "_view_name": "StyleView",
            "description_width": ""
          }
        },
        "deb4a3e048c84c0b83d39df070ac19c8": {
          "model_module": "@jupyter-widgets/base",
          "model_name": "LayoutModel",
          "model_module_version": "1.2.0",
          "state": {
            "_model_module": "@jupyter-widgets/base",
            "_model_module_version": "1.2.0",
            "_model_name": "LayoutModel",
            "_view_count": null,
            "_view_module": "@jupyter-widgets/base",
            "_view_module_version": "1.2.0",
            "_view_name": "LayoutView",
            "align_content": null,
            "align_items": null,
            "align_self": null,
            "border": null,
            "bottom": null,
            "display": null,
            "flex": null,
            "flex_flow": null,
            "grid_area": null,
            "grid_auto_columns": null,
            "grid_auto_flow": null,
            "grid_auto_rows": null,
            "grid_column": null,
            "grid_gap": null,
            "grid_row": null,
            "grid_template_areas": null,
            "grid_template_columns": null,
            "grid_template_rows": null,
            "height": null,
            "justify_content": null,
            "justify_items": null,
            "left": null,
            "margin": null,
            "max_height": null,
            "max_width": null,
            "min_height": null,
            "min_width": null,
            "object_fit": null,
            "object_position": null,
            "order": null,
            "overflow": null,
            "overflow_x": null,
            "overflow_y": null,
            "padding": null,
            "right": null,
            "top": null,
            "visibility": null,
            "width": null
          }
        },
        "f03678b7b3f94584a1915bdcb337731f": {
          "model_module": "@jupyter-widgets/controls",
          "model_name": "ProgressStyleModel",
          "model_module_version": "1.5.0",
          "state": {
            "_model_module": "@jupyter-widgets/controls",
            "_model_module_version": "1.5.0",
            "_model_name": "ProgressStyleModel",
            "_view_count": null,
            "_view_module": "@jupyter-widgets/base",
            "_view_module_version": "1.2.0",
            "_view_name": "StyleView",
            "bar_color": null,
            "description_width": ""
          }
        },
        "3f93517686d84d0d974816f962170562": {
          "model_module": "@jupyter-widgets/base",
          "model_name": "LayoutModel",
          "model_module_version": "1.2.0",
          "state": {
            "_model_module": "@jupyter-widgets/base",
            "_model_module_version": "1.2.0",
            "_model_name": "LayoutModel",
            "_view_count": null,
            "_view_module": "@jupyter-widgets/base",
            "_view_module_version": "1.2.0",
            "_view_name": "LayoutView",
            "align_content": null,
            "align_items": null,
            "align_self": null,
            "border": null,
            "bottom": null,
            "display": null,
            "flex": null,
            "flex_flow": null,
            "grid_area": null,
            "grid_auto_columns": null,
            "grid_auto_flow": null,
            "grid_auto_rows": null,
            "grid_column": null,
            "grid_gap": null,
            "grid_row": null,
            "grid_template_areas": null,
            "grid_template_columns": null,
            "grid_template_rows": null,
            "height": null,
            "justify_content": null,
            "justify_items": null,
            "left": null,
            "margin": null,
            "max_height": null,
            "max_width": null,
            "min_height": null,
            "min_width": null,
            "object_fit": null,
            "object_position": null,
            "order": null,
            "overflow": null,
            "overflow_x": null,
            "overflow_y": null,
            "padding": null,
            "right": null,
            "top": null,
            "visibility": null,
            "width": null
          }
        },
        "29b1d2a86b4d483fb7a850999db72cf3": {
          "model_module": "@jupyter-widgets/controls",
          "model_name": "DescriptionStyleModel",
          "model_module_version": "1.5.0",
          "state": {
            "_model_module": "@jupyter-widgets/controls",
            "_model_module_version": "1.5.0",
            "_model_name": "DescriptionStyleModel",
            "_view_count": null,
            "_view_module": "@jupyter-widgets/base",
            "_view_module_version": "1.2.0",
            "_view_name": "StyleView",
            "description_width": ""
          }
        },
        "4604824d8c4445fc88cae63df6d1093d": {
          "model_module": "@jupyter-widgets/controls",
          "model_name": "HBoxModel",
          "model_module_version": "1.5.0",
          "state": {
            "_dom_classes": [],
            "_model_module": "@jupyter-widgets/controls",
            "_model_module_version": "1.5.0",
            "_model_name": "HBoxModel",
            "_view_count": null,
            "_view_module": "@jupyter-widgets/controls",
            "_view_module_version": "1.5.0",
            "_view_name": "HBoxView",
            "box_style": "",
            "children": [
              "IPY_MODEL_ca5ef6883e394657935feaf4257c947f",
              "IPY_MODEL_3ae0f36ac5ea4162b120fdab6f9a9abf",
              "IPY_MODEL_5723b0edb34a4b6c80c97257b7f73828"
            ],
            "layout": "IPY_MODEL_254cba1d9b064f07a712b07b3810b70b"
          }
        },
        "ca5ef6883e394657935feaf4257c947f": {
          "model_module": "@jupyter-widgets/controls",
          "model_name": "HTMLModel",
          "model_module_version": "1.5.0",
          "state": {
            "_dom_classes": [],
            "_model_module": "@jupyter-widgets/controls",
            "_model_module_version": "1.5.0",
            "_model_name": "HTMLModel",
            "_view_count": null,
            "_view_module": "@jupyter-widgets/controls",
            "_view_module_version": "1.5.0",
            "_view_name": "HTMLView",
            "description": "",
            "description_tooltip": null,
            "layout": "IPY_MODEL_467063d420664b52819e2d186f9b0411",
            "placeholder": "​",
            "style": "IPY_MODEL_abb97210417042e9a8314db7fa8a072f",
            "value": "Downloading config.json: 100%"
          }
        },
        "3ae0f36ac5ea4162b120fdab6f9a9abf": {
          "model_module": "@jupyter-widgets/controls",
          "model_name": "FloatProgressModel",
          "model_module_version": "1.5.0",
          "state": {
            "_dom_classes": [],
            "_model_module": "@jupyter-widgets/controls",
            "_model_module_version": "1.5.0",
            "_model_name": "FloatProgressModel",
            "_view_count": null,
            "_view_module": "@jupyter-widgets/controls",
            "_view_module_version": "1.5.0",
            "_view_name": "ProgressView",
            "bar_style": "success",
            "description": "",
            "description_tooltip": null,
            "layout": "IPY_MODEL_7fc8cc4347f5418a85df70c4c00642cc",
            "max": 629,
            "min": 0,
            "orientation": "horizontal",
            "style": "IPY_MODEL_805b2a60ba1e4103a8889a9856945670",
            "value": 629
          }
        },
        "5723b0edb34a4b6c80c97257b7f73828": {
          "model_module": "@jupyter-widgets/controls",
          "model_name": "HTMLModel",
          "model_module_version": "1.5.0",
          "state": {
            "_dom_classes": [],
            "_model_module": "@jupyter-widgets/controls",
            "_model_module_version": "1.5.0",
            "_model_name": "HTMLModel",
            "_view_count": null,
            "_view_module": "@jupyter-widgets/controls",
            "_view_module_version": "1.5.0",
            "_view_name": "HTMLView",
            "description": "",
            "description_tooltip": null,
            "layout": "IPY_MODEL_ffd3c67affbd473986b77f19942c6314",
            "placeholder": "​",
            "style": "IPY_MODEL_4567a120d7e846f7b217b4607a7ecc34",
            "value": " 629/629 [00:00&lt;00:00, 19.8kB/s]"
          }
        },
        "254cba1d9b064f07a712b07b3810b70b": {
          "model_module": "@jupyter-widgets/base",
          "model_name": "LayoutModel",
          "model_module_version": "1.2.0",
          "state": {
            "_model_module": "@jupyter-widgets/base",
            "_model_module_version": "1.2.0",
            "_model_name": "LayoutModel",
            "_view_count": null,
            "_view_module": "@jupyter-widgets/base",
            "_view_module_version": "1.2.0",
            "_view_name": "LayoutView",
            "align_content": null,
            "align_items": null,
            "align_self": null,
            "border": null,
            "bottom": null,
            "display": null,
            "flex": null,
            "flex_flow": null,
            "grid_area": null,
            "grid_auto_columns": null,
            "grid_auto_flow": null,
            "grid_auto_rows": null,
            "grid_column": null,
            "grid_gap": null,
            "grid_row": null,
            "grid_template_areas": null,
            "grid_template_columns": null,
            "grid_template_rows": null,
            "height": null,
            "justify_content": null,
            "justify_items": null,
            "left": null,
            "margin": null,
            "max_height": null,
            "max_width": null,
            "min_height": null,
            "min_width": null,
            "object_fit": null,
            "object_position": null,
            "order": null,
            "overflow": null,
            "overflow_x": null,
            "overflow_y": null,
            "padding": null,
            "right": null,
            "top": null,
            "visibility": null,
            "width": null
          }
        },
        "467063d420664b52819e2d186f9b0411": {
          "model_module": "@jupyter-widgets/base",
          "model_name": "LayoutModel",
          "model_module_version": "1.2.0",
          "state": {
            "_model_module": "@jupyter-widgets/base",
            "_model_module_version": "1.2.0",
            "_model_name": "LayoutModel",
            "_view_count": null,
            "_view_module": "@jupyter-widgets/base",
            "_view_module_version": "1.2.0",
            "_view_name": "LayoutView",
            "align_content": null,
            "align_items": null,
            "align_self": null,
            "border": null,
            "bottom": null,
            "display": null,
            "flex": null,
            "flex_flow": null,
            "grid_area": null,
            "grid_auto_columns": null,
            "grid_auto_flow": null,
            "grid_auto_rows": null,
            "grid_column": null,
            "grid_gap": null,
            "grid_row": null,
            "grid_template_areas": null,
            "grid_template_columns": null,
            "grid_template_rows": null,
            "height": null,
            "justify_content": null,
            "justify_items": null,
            "left": null,
            "margin": null,
            "max_height": null,
            "max_width": null,
            "min_height": null,
            "min_width": null,
            "object_fit": null,
            "object_position": null,
            "order": null,
            "overflow": null,
            "overflow_x": null,
            "overflow_y": null,
            "padding": null,
            "right": null,
            "top": null,
            "visibility": null,
            "width": null
          }
        },
        "abb97210417042e9a8314db7fa8a072f": {
          "model_module": "@jupyter-widgets/controls",
          "model_name": "DescriptionStyleModel",
          "model_module_version": "1.5.0",
          "state": {
            "_model_module": "@jupyter-widgets/controls",
            "_model_module_version": "1.5.0",
            "_model_name": "DescriptionStyleModel",
            "_view_count": null,
            "_view_module": "@jupyter-widgets/base",
            "_view_module_version": "1.2.0",
            "_view_name": "StyleView",
            "description_width": ""
          }
        },
        "7fc8cc4347f5418a85df70c4c00642cc": {
          "model_module": "@jupyter-widgets/base",
          "model_name": "LayoutModel",
          "model_module_version": "1.2.0",
          "state": {
            "_model_module": "@jupyter-widgets/base",
            "_model_module_version": "1.2.0",
            "_model_name": "LayoutModel",
            "_view_count": null,
            "_view_module": "@jupyter-widgets/base",
            "_view_module_version": "1.2.0",
            "_view_name": "LayoutView",
            "align_content": null,
            "align_items": null,
            "align_self": null,
            "border": null,
            "bottom": null,
            "display": null,
            "flex": null,
            "flex_flow": null,
            "grid_area": null,
            "grid_auto_columns": null,
            "grid_auto_flow": null,
            "grid_auto_rows": null,
            "grid_column": null,
            "grid_gap": null,
            "grid_row": null,
            "grid_template_areas": null,
            "grid_template_columns": null,
            "grid_template_rows": null,
            "height": null,
            "justify_content": null,
            "justify_items": null,
            "left": null,
            "margin": null,
            "max_height": null,
            "max_width": null,
            "min_height": null,
            "min_width": null,
            "object_fit": null,
            "object_position": null,
            "order": null,
            "overflow": null,
            "overflow_x": null,
            "overflow_y": null,
            "padding": null,
            "right": null,
            "top": null,
            "visibility": null,
            "width": null
          }
        },
        "805b2a60ba1e4103a8889a9856945670": {
          "model_module": "@jupyter-widgets/controls",
          "model_name": "ProgressStyleModel",
          "model_module_version": "1.5.0",
          "state": {
            "_model_module": "@jupyter-widgets/controls",
            "_model_module_version": "1.5.0",
            "_model_name": "ProgressStyleModel",
            "_view_count": null,
            "_view_module": "@jupyter-widgets/base",
            "_view_module_version": "1.2.0",
            "_view_name": "StyleView",
            "bar_color": null,
            "description_width": ""
          }
        },
        "ffd3c67affbd473986b77f19942c6314": {
          "model_module": "@jupyter-widgets/base",
          "model_name": "LayoutModel",
          "model_module_version": "1.2.0",
          "state": {
            "_model_module": "@jupyter-widgets/base",
            "_model_module_version": "1.2.0",
            "_model_name": "LayoutModel",
            "_view_count": null,
            "_view_module": "@jupyter-widgets/base",
            "_view_module_version": "1.2.0",
            "_view_name": "LayoutView",
            "align_content": null,
            "align_items": null,
            "align_self": null,
            "border": null,
            "bottom": null,
            "display": null,
            "flex": null,
            "flex_flow": null,
            "grid_area": null,
            "grid_auto_columns": null,
            "grid_auto_flow": null,
            "grid_auto_rows": null,
            "grid_column": null,
            "grid_gap": null,
            "grid_row": null,
            "grid_template_areas": null,
            "grid_template_columns": null,
            "grid_template_rows": null,
            "height": null,
            "justify_content": null,
            "justify_items": null,
            "left": null,
            "margin": null,
            "max_height": null,
            "max_width": null,
            "min_height": null,
            "min_width": null,
            "object_fit": null,
            "object_position": null,
            "order": null,
            "overflow": null,
            "overflow_x": null,
            "overflow_y": null,
            "padding": null,
            "right": null,
            "top": null,
            "visibility": null,
            "width": null
          }
        },
        "4567a120d7e846f7b217b4607a7ecc34": {
          "model_module": "@jupyter-widgets/controls",
          "model_name": "DescriptionStyleModel",
          "model_module_version": "1.5.0",
          "state": {
            "_model_module": "@jupyter-widgets/controls",
            "_model_module_version": "1.5.0",
            "_model_name": "DescriptionStyleModel",
            "_view_count": null,
            "_view_module": "@jupyter-widgets/base",
            "_view_module_version": "1.2.0",
            "_view_name": "StyleView",
            "description_width": ""
          }
        },
        "21367f3744c449e486e85cf411c6b80c": {
          "model_module": "@jupyter-widgets/controls",
          "model_name": "HBoxModel",
          "model_module_version": "1.5.0",
          "state": {
            "_dom_classes": [],
            "_model_module": "@jupyter-widgets/controls",
            "_model_module_version": "1.5.0",
            "_model_name": "HBoxModel",
            "_view_count": null,
            "_view_module": "@jupyter-widgets/controls",
            "_view_module_version": "1.5.0",
            "_view_name": "HBoxView",
            "box_style": "",
            "children": [
              "IPY_MODEL_0c0b594bb67a4bd0b5a358c7d13729c0",
              "IPY_MODEL_df8e886a38e94915affa106ae58b4d45",
              "IPY_MODEL_8a3316408ed642c1a567571e63e9ec96"
            ],
            "layout": "IPY_MODEL_80ca721b2a2f4240a778b375b0431031"
          }
        },
        "0c0b594bb67a4bd0b5a358c7d13729c0": {
          "model_module": "@jupyter-widgets/controls",
          "model_name": "HTMLModel",
          "model_module_version": "1.5.0",
          "state": {
            "_dom_classes": [],
            "_model_module": "@jupyter-widgets/controls",
            "_model_module_version": "1.5.0",
            "_model_name": "HTMLModel",
            "_view_count": null,
            "_view_module": "@jupyter-widgets/controls",
            "_view_module_version": "1.5.0",
            "_view_name": "HTMLView",
            "description": "",
            "description_tooltip": null,
            "layout": "IPY_MODEL_794e8101d8694395a6994dcfc16dec86",
            "placeholder": "​",
            "style": "IPY_MODEL_eed814013c794992a0e46cc2504f694c",
            "value": "Downloading pytorch_model.bin: 100%"
          }
        },
        "df8e886a38e94915affa106ae58b4d45": {
          "model_module": "@jupyter-widgets/controls",
          "model_name": "FloatProgressModel",
          "model_module_version": "1.5.0",
          "state": {
            "_dom_classes": [],
            "_model_module": "@jupyter-widgets/controls",
            "_model_module_version": "1.5.0",
            "_model_name": "FloatProgressModel",
            "_view_count": null,
            "_view_module": "@jupyter-widgets/controls",
            "_view_module_version": "1.5.0",
            "_view_name": "ProgressView",
            "bar_style": "success",
            "description": "",
            "description_tooltip": null,
            "layout": "IPY_MODEL_0bc425b50cd44db1b38991e5cb61e4ef",
            "max": 267844284,
            "min": 0,
            "orientation": "horizontal",
            "style": "IPY_MODEL_e0a417dc60b1416a96a9273a2abf654a",
            "value": 267844284
          }
        },
        "8a3316408ed642c1a567571e63e9ec96": {
          "model_module": "@jupyter-widgets/controls",
          "model_name": "HTMLModel",
          "model_module_version": "1.5.0",
          "state": {
            "_dom_classes": [],
            "_model_module": "@jupyter-widgets/controls",
            "_model_module_version": "1.5.0",
            "_model_name": "HTMLModel",
            "_view_count": null,
            "_view_module": "@jupyter-widgets/controls",
            "_view_module_version": "1.5.0",
            "_view_name": "HTMLView",
            "description": "",
            "description_tooltip": null,
            "layout": "IPY_MODEL_1c4dd2df036c4751af153287c4624a12",
            "placeholder": "​",
            "style": "IPY_MODEL_a2d036911098465bb08953c0b03e9133",
            "value": " 255M/255M [00:07&lt;00:00, 61.1MB/s]"
          }
        },
        "80ca721b2a2f4240a778b375b0431031": {
          "model_module": "@jupyter-widgets/base",
          "model_name": "LayoutModel",
          "model_module_version": "1.2.0",
          "state": {
            "_model_module": "@jupyter-widgets/base",
            "_model_module_version": "1.2.0",
            "_model_name": "LayoutModel",
            "_view_count": null,
            "_view_module": "@jupyter-widgets/base",
            "_view_module_version": "1.2.0",
            "_view_name": "LayoutView",
            "align_content": null,
            "align_items": null,
            "align_self": null,
            "border": null,
            "bottom": null,
            "display": null,
            "flex": null,
            "flex_flow": null,
            "grid_area": null,
            "grid_auto_columns": null,
            "grid_auto_flow": null,
            "grid_auto_rows": null,
            "grid_column": null,
            "grid_gap": null,
            "grid_row": null,
            "grid_template_areas": null,
            "grid_template_columns": null,
            "grid_template_rows": null,
            "height": null,
            "justify_content": null,
            "justify_items": null,
            "left": null,
            "margin": null,
            "max_height": null,
            "max_width": null,
            "min_height": null,
            "min_width": null,
            "object_fit": null,
            "object_position": null,
            "order": null,
            "overflow": null,
            "overflow_x": null,
            "overflow_y": null,
            "padding": null,
            "right": null,
            "top": null,
            "visibility": null,
            "width": null
          }
        },
        "794e8101d8694395a6994dcfc16dec86": {
          "model_module": "@jupyter-widgets/base",
          "model_name": "LayoutModel",
          "model_module_version": "1.2.0",
          "state": {
            "_model_module": "@jupyter-widgets/base",
            "_model_module_version": "1.2.0",
            "_model_name": "LayoutModel",
            "_view_count": null,
            "_view_module": "@jupyter-widgets/base",
            "_view_module_version": "1.2.0",
            "_view_name": "LayoutView",
            "align_content": null,
            "align_items": null,
            "align_self": null,
            "border": null,
            "bottom": null,
            "display": null,
            "flex": null,
            "flex_flow": null,
            "grid_area": null,
            "grid_auto_columns": null,
            "grid_auto_flow": null,
            "grid_auto_rows": null,
            "grid_column": null,
            "grid_gap": null,
            "grid_row": null,
            "grid_template_areas": null,
            "grid_template_columns": null,
            "grid_template_rows": null,
            "height": null,
            "justify_content": null,
            "justify_items": null,
            "left": null,
            "margin": null,
            "max_height": null,
            "max_width": null,
            "min_height": null,
            "min_width": null,
            "object_fit": null,
            "object_position": null,
            "order": null,
            "overflow": null,
            "overflow_x": null,
            "overflow_y": null,
            "padding": null,
            "right": null,
            "top": null,
            "visibility": null,
            "width": null
          }
        },
        "eed814013c794992a0e46cc2504f694c": {
          "model_module": "@jupyter-widgets/controls",
          "model_name": "DescriptionStyleModel",
          "model_module_version": "1.5.0",
          "state": {
            "_model_module": "@jupyter-widgets/controls",
            "_model_module_version": "1.5.0",
            "_model_name": "DescriptionStyleModel",
            "_view_count": null,
            "_view_module": "@jupyter-widgets/base",
            "_view_module_version": "1.2.0",
            "_view_name": "StyleView",
            "description_width": ""
          }
        },
        "0bc425b50cd44db1b38991e5cb61e4ef": {
          "model_module": "@jupyter-widgets/base",
          "model_name": "LayoutModel",
          "model_module_version": "1.2.0",
          "state": {
            "_model_module": "@jupyter-widgets/base",
            "_model_module_version": "1.2.0",
            "_model_name": "LayoutModel",
            "_view_count": null,
            "_view_module": "@jupyter-widgets/base",
            "_view_module_version": "1.2.0",
            "_view_name": "LayoutView",
            "align_content": null,
            "align_items": null,
            "align_self": null,
            "border": null,
            "bottom": null,
            "display": null,
            "flex": null,
            "flex_flow": null,
            "grid_area": null,
            "grid_auto_columns": null,
            "grid_auto_flow": null,
            "grid_auto_rows": null,
            "grid_column": null,
            "grid_gap": null,
            "grid_row": null,
            "grid_template_areas": null,
            "grid_template_columns": null,
            "grid_template_rows": null,
            "height": null,
            "justify_content": null,
            "justify_items": null,
            "left": null,
            "margin": null,
            "max_height": null,
            "max_width": null,
            "min_height": null,
            "min_width": null,
            "object_fit": null,
            "object_position": null,
            "order": null,
            "overflow": null,
            "overflow_x": null,
            "overflow_y": null,
            "padding": null,
            "right": null,
            "top": null,
            "visibility": null,
            "width": null
          }
        },
        "e0a417dc60b1416a96a9273a2abf654a": {
          "model_module": "@jupyter-widgets/controls",
          "model_name": "ProgressStyleModel",
          "model_module_version": "1.5.0",
          "state": {
            "_model_module": "@jupyter-widgets/controls",
            "_model_module_version": "1.5.0",
            "_model_name": "ProgressStyleModel",
            "_view_count": null,
            "_view_module": "@jupyter-widgets/base",
            "_view_module_version": "1.2.0",
            "_view_name": "StyleView",
            "bar_color": null,
            "description_width": ""
          }
        },
        "1c4dd2df036c4751af153287c4624a12": {
          "model_module": "@jupyter-widgets/base",
          "model_name": "LayoutModel",
          "model_module_version": "1.2.0",
          "state": {
            "_model_module": "@jupyter-widgets/base",
            "_model_module_version": "1.2.0",
            "_model_name": "LayoutModel",
            "_view_count": null,
            "_view_module": "@jupyter-widgets/base",
            "_view_module_version": "1.2.0",
            "_view_name": "LayoutView",
            "align_content": null,
            "align_items": null,
            "align_self": null,
            "border": null,
            "bottom": null,
            "display": null,
            "flex": null,
            "flex_flow": null,
            "grid_area": null,
            "grid_auto_columns": null,
            "grid_auto_flow": null,
            "grid_auto_rows": null,
            "grid_column": null,
            "grid_gap": null,
            "grid_row": null,
            "grid_template_areas": null,
            "grid_template_columns": null,
            "grid_template_rows": null,
            "height": null,
            "justify_content": null,
            "justify_items": null,
            "left": null,
            "margin": null,
            "max_height": null,
            "max_width": null,
            "min_height": null,
            "min_width": null,
            "object_fit": null,
            "object_position": null,
            "order": null,
            "overflow": null,
            "overflow_x": null,
            "overflow_y": null,
            "padding": null,
            "right": null,
            "top": null,
            "visibility": null,
            "width": null
          }
        },
        "a2d036911098465bb08953c0b03e9133": {
          "model_module": "@jupyter-widgets/controls",
          "model_name": "DescriptionStyleModel",
          "model_module_version": "1.5.0",
          "state": {
            "_model_module": "@jupyter-widgets/controls",
            "_model_module_version": "1.5.0",
            "_model_name": "DescriptionStyleModel",
            "_view_count": null,
            "_view_module": "@jupyter-widgets/base",
            "_view_module_version": "1.2.0",
            "_view_name": "StyleView",
            "description_width": ""
          }
        },
        "cbb39104bb4e4a8c94878156c2fd375e": {
          "model_module": "@jupyter-widgets/controls",
          "model_name": "HBoxModel",
          "model_module_version": "1.5.0",
          "state": {
            "_dom_classes": [],
            "_model_module": "@jupyter-widgets/controls",
            "_model_module_version": "1.5.0",
            "_model_name": "HBoxModel",
            "_view_count": null,
            "_view_module": "@jupyter-widgets/controls",
            "_view_module_version": "1.5.0",
            "_view_name": "HBoxView",
            "box_style": "",
            "children": [
              "IPY_MODEL_e97c0253b2d649b3a10deaed582600af",
              "IPY_MODEL_be4ed6fe160343e89a0dde7b146f8a6b",
              "IPY_MODEL_9de9a56085764841a0c77f568cbe5a75"
            ],
            "layout": "IPY_MODEL_c0717506e7eb45f784eb5de16be06e35"
          }
        },
        "e97c0253b2d649b3a10deaed582600af": {
          "model_module": "@jupyter-widgets/controls",
          "model_name": "HTMLModel",
          "model_module_version": "1.5.0",
          "state": {
            "_dom_classes": [],
            "_model_module": "@jupyter-widgets/controls",
            "_model_module_version": "1.5.0",
            "_model_name": "HTMLModel",
            "_view_count": null,
            "_view_module": "@jupyter-widgets/controls",
            "_view_module_version": "1.5.0",
            "_view_name": "HTMLView",
            "description": "",
            "description_tooltip": null,
            "layout": "IPY_MODEL_cf09042d110a45bb8c74c3a6a2a38e2b",
            "placeholder": "​",
            "style": "IPY_MODEL_b84bfa19eea54633bf73d84836901920",
            "value": "Downloading tokenizer_config.json: 100%"
          }
        },
        "be4ed6fe160343e89a0dde7b146f8a6b": {
          "model_module": "@jupyter-widgets/controls",
          "model_name": "FloatProgressModel",
          "model_module_version": "1.5.0",
          "state": {
            "_dom_classes": [],
            "_model_module": "@jupyter-widgets/controls",
            "_model_module_version": "1.5.0",
            "_model_name": "FloatProgressModel",
            "_view_count": null,
            "_view_module": "@jupyter-widgets/controls",
            "_view_module_version": "1.5.0",
            "_view_name": "ProgressView",
            "bar_style": "success",
            "description": "",
            "description_tooltip": null,
            "layout": "IPY_MODEL_3874ee38ebaf44968f383f6788f4bfb0",
            "max": 48,
            "min": 0,
            "orientation": "horizontal",
            "style": "IPY_MODEL_ba612003cd354f19a78387f7eb67cf06",
            "value": 48
          }
        },
        "9de9a56085764841a0c77f568cbe5a75": {
          "model_module": "@jupyter-widgets/controls",
          "model_name": "HTMLModel",
          "model_module_version": "1.5.0",
          "state": {
            "_dom_classes": [],
            "_model_module": "@jupyter-widgets/controls",
            "_model_module_version": "1.5.0",
            "_model_name": "HTMLModel",
            "_view_count": null,
            "_view_module": "@jupyter-widgets/controls",
            "_view_module_version": "1.5.0",
            "_view_name": "HTMLView",
            "description": "",
            "description_tooltip": null,
            "layout": "IPY_MODEL_86cdb74a9acd40c696244ff8edb3e1a4",
            "placeholder": "​",
            "style": "IPY_MODEL_82a0b9e4c839477a975c29509da17aed",
            "value": " 48.0/48.0 [00:00&lt;00:00, 1.69kB/s]"
          }
        },
        "c0717506e7eb45f784eb5de16be06e35": {
          "model_module": "@jupyter-widgets/base",
          "model_name": "LayoutModel",
          "model_module_version": "1.2.0",
          "state": {
            "_model_module": "@jupyter-widgets/base",
            "_model_module_version": "1.2.0",
            "_model_name": "LayoutModel",
            "_view_count": null,
            "_view_module": "@jupyter-widgets/base",
            "_view_module_version": "1.2.0",
            "_view_name": "LayoutView",
            "align_content": null,
            "align_items": null,
            "align_self": null,
            "border": null,
            "bottom": null,
            "display": null,
            "flex": null,
            "flex_flow": null,
            "grid_area": null,
            "grid_auto_columns": null,
            "grid_auto_flow": null,
            "grid_auto_rows": null,
            "grid_column": null,
            "grid_gap": null,
            "grid_row": null,
            "grid_template_areas": null,
            "grid_template_columns": null,
            "grid_template_rows": null,
            "height": null,
            "justify_content": null,
            "justify_items": null,
            "left": null,
            "margin": null,
            "max_height": null,
            "max_width": null,
            "min_height": null,
            "min_width": null,
            "object_fit": null,
            "object_position": null,
            "order": null,
            "overflow": null,
            "overflow_x": null,
            "overflow_y": null,
            "padding": null,
            "right": null,
            "top": null,
            "visibility": null,
            "width": null
          }
        },
        "cf09042d110a45bb8c74c3a6a2a38e2b": {
          "model_module": "@jupyter-widgets/base",
          "model_name": "LayoutModel",
          "model_module_version": "1.2.0",
          "state": {
            "_model_module": "@jupyter-widgets/base",
            "_model_module_version": "1.2.0",
            "_model_name": "LayoutModel",
            "_view_count": null,
            "_view_module": "@jupyter-widgets/base",
            "_view_module_version": "1.2.0",
            "_view_name": "LayoutView",
            "align_content": null,
            "align_items": null,
            "align_self": null,
            "border": null,
            "bottom": null,
            "display": null,
            "flex": null,
            "flex_flow": null,
            "grid_area": null,
            "grid_auto_columns": null,
            "grid_auto_flow": null,
            "grid_auto_rows": null,
            "grid_column": null,
            "grid_gap": null,
            "grid_row": null,
            "grid_template_areas": null,
            "grid_template_columns": null,
            "grid_template_rows": null,
            "height": null,
            "justify_content": null,
            "justify_items": null,
            "left": null,
            "margin": null,
            "max_height": null,
            "max_width": null,
            "min_height": null,
            "min_width": null,
            "object_fit": null,
            "object_position": null,
            "order": null,
            "overflow": null,
            "overflow_x": null,
            "overflow_y": null,
            "padding": null,
            "right": null,
            "top": null,
            "visibility": null,
            "width": null
          }
        },
        "b84bfa19eea54633bf73d84836901920": {
          "model_module": "@jupyter-widgets/controls",
          "model_name": "DescriptionStyleModel",
          "model_module_version": "1.5.0",
          "state": {
            "_model_module": "@jupyter-widgets/controls",
            "_model_module_version": "1.5.0",
            "_model_name": "DescriptionStyleModel",
            "_view_count": null,
            "_view_module": "@jupyter-widgets/base",
            "_view_module_version": "1.2.0",
            "_view_name": "StyleView",
            "description_width": ""
          }
        },
        "3874ee38ebaf44968f383f6788f4bfb0": {
          "model_module": "@jupyter-widgets/base",
          "model_name": "LayoutModel",
          "model_module_version": "1.2.0",
          "state": {
            "_model_module": "@jupyter-widgets/base",
            "_model_module_version": "1.2.0",
            "_model_name": "LayoutModel",
            "_view_count": null,
            "_view_module": "@jupyter-widgets/base",
            "_view_module_version": "1.2.0",
            "_view_name": "LayoutView",
            "align_content": null,
            "align_items": null,
            "align_self": null,
            "border": null,
            "bottom": null,
            "display": null,
            "flex": null,
            "flex_flow": null,
            "grid_area": null,
            "grid_auto_columns": null,
            "grid_auto_flow": null,
            "grid_auto_rows": null,
            "grid_column": null,
            "grid_gap": null,
            "grid_row": null,
            "grid_template_areas": null,
            "grid_template_columns": null,
            "grid_template_rows": null,
            "height": null,
            "justify_content": null,
            "justify_items": null,
            "left": null,
            "margin": null,
            "max_height": null,
            "max_width": null,
            "min_height": null,
            "min_width": null,
            "object_fit": null,
            "object_position": null,
            "order": null,
            "overflow": null,
            "overflow_x": null,
            "overflow_y": null,
            "padding": null,
            "right": null,
            "top": null,
            "visibility": null,
            "width": null
          }
        },
        "ba612003cd354f19a78387f7eb67cf06": {
          "model_module": "@jupyter-widgets/controls",
          "model_name": "ProgressStyleModel",
          "model_module_version": "1.5.0",
          "state": {
            "_model_module": "@jupyter-widgets/controls",
            "_model_module_version": "1.5.0",
            "_model_name": "ProgressStyleModel",
            "_view_count": null,
            "_view_module": "@jupyter-widgets/base",
            "_view_module_version": "1.2.0",
            "_view_name": "StyleView",
            "bar_color": null,
            "description_width": ""
          }
        },
        "86cdb74a9acd40c696244ff8edb3e1a4": {
          "model_module": "@jupyter-widgets/base",
          "model_name": "LayoutModel",
          "model_module_version": "1.2.0",
          "state": {
            "_model_module": "@jupyter-widgets/base",
            "_model_module_version": "1.2.0",
            "_model_name": "LayoutModel",
            "_view_count": null,
            "_view_module": "@jupyter-widgets/base",
            "_view_module_version": "1.2.0",
            "_view_name": "LayoutView",
            "align_content": null,
            "align_items": null,
            "align_self": null,
            "border": null,
            "bottom": null,
            "display": null,
            "flex": null,
            "flex_flow": null,
            "grid_area": null,
            "grid_auto_columns": null,
            "grid_auto_flow": null,
            "grid_auto_rows": null,
            "grid_column": null,
            "grid_gap": null,
            "grid_row": null,
            "grid_template_areas": null,
            "grid_template_columns": null,
            "grid_template_rows": null,
            "height": null,
            "justify_content": null,
            "justify_items": null,
            "left": null,
            "margin": null,
            "max_height": null,
            "max_width": null,
            "min_height": null,
            "min_width": null,
            "object_fit": null,
            "object_position": null,
            "order": null,
            "overflow": null,
            "overflow_x": null,
            "overflow_y": null,
            "padding": null,
            "right": null,
            "top": null,
            "visibility": null,
            "width": null
          }
        },
        "82a0b9e4c839477a975c29509da17aed": {
          "model_module": "@jupyter-widgets/controls",
          "model_name": "DescriptionStyleModel",
          "model_module_version": "1.5.0",
          "state": {
            "_model_module": "@jupyter-widgets/controls",
            "_model_module_version": "1.5.0",
            "_model_name": "DescriptionStyleModel",
            "_view_count": null,
            "_view_module": "@jupyter-widgets/base",
            "_view_module_version": "1.2.0",
            "_view_name": "StyleView",
            "description_width": ""
          }
        },
        "e469805338bd4f26978eb5c60eec29a4": {
          "model_module": "@jupyter-widgets/controls",
          "model_name": "HBoxModel",
          "model_module_version": "1.5.0",
          "state": {
            "_dom_classes": [],
            "_model_module": "@jupyter-widgets/controls",
            "_model_module_version": "1.5.0",
            "_model_name": "HBoxModel",
            "_view_count": null,
            "_view_module": "@jupyter-widgets/controls",
            "_view_module_version": "1.5.0",
            "_view_name": "HBoxView",
            "box_style": "",
            "children": [
              "IPY_MODEL_d027ab16d102438eabfa63d7ef60d590",
              "IPY_MODEL_a8dd032d95a349c3b4896a54ae914c98",
              "IPY_MODEL_b0f9dbdba3b848c48dd7dba7c175d513"
            ],
            "layout": "IPY_MODEL_b8bb17c07bb544d1a95207532e8f1fd6"
          }
        },
        "d027ab16d102438eabfa63d7ef60d590": {
          "model_module": "@jupyter-widgets/controls",
          "model_name": "HTMLModel",
          "model_module_version": "1.5.0",
          "state": {
            "_dom_classes": [],
            "_model_module": "@jupyter-widgets/controls",
            "_model_module_version": "1.5.0",
            "_model_name": "HTMLModel",
            "_view_count": null,
            "_view_module": "@jupyter-widgets/controls",
            "_view_module_version": "1.5.0",
            "_view_name": "HTMLView",
            "description": "",
            "description_tooltip": null,
            "layout": "IPY_MODEL_f7b86a0716a2459bbc48ae4037c4f8e9",
            "placeholder": "​",
            "style": "IPY_MODEL_0e105b2be6114fbaa802afe968f3678e",
            "value": "Downloading vocab.txt: 100%"
          }
        },
        "a8dd032d95a349c3b4896a54ae914c98": {
          "model_module": "@jupyter-widgets/controls",
          "model_name": "FloatProgressModel",
          "model_module_version": "1.5.0",
          "state": {
            "_dom_classes": [],
            "_model_module": "@jupyter-widgets/controls",
            "_model_module_version": "1.5.0",
            "_model_name": "FloatProgressModel",
            "_view_count": null,
            "_view_module": "@jupyter-widgets/controls",
            "_view_module_version": "1.5.0",
            "_view_name": "ProgressView",
            "bar_style": "success",
            "description": "",
            "description_tooltip": null,
            "layout": "IPY_MODEL_4f2584f6d1734210968fcc45ab6c8697",
            "max": 231508,
            "min": 0,
            "orientation": "horizontal",
            "style": "IPY_MODEL_618acda9ea0c42f785bacb09ac358374",
            "value": 231508
          }
        },
        "b0f9dbdba3b848c48dd7dba7c175d513": {
          "model_module": "@jupyter-widgets/controls",
          "model_name": "HTMLModel",
          "model_module_version": "1.5.0",
          "state": {
            "_dom_classes": [],
            "_model_module": "@jupyter-widgets/controls",
            "_model_module_version": "1.5.0",
            "_model_name": "HTMLModel",
            "_view_count": null,
            "_view_module": "@jupyter-widgets/controls",
            "_view_module_version": "1.5.0",
            "_view_name": "HTMLView",
            "description": "",
            "description_tooltip": null,
            "layout": "IPY_MODEL_8ba958a2f48240c4be140c1c77bff53d",
            "placeholder": "​",
            "style": "IPY_MODEL_4c6db8a4f6c94cd9b6a56055c94f4a16",
            "value": " 226k/226k [00:00&lt;00:00, 294kB/s]"
          }
        },
        "b8bb17c07bb544d1a95207532e8f1fd6": {
          "model_module": "@jupyter-widgets/base",
          "model_name": "LayoutModel",
          "model_module_version": "1.2.0",
          "state": {
            "_model_module": "@jupyter-widgets/base",
            "_model_module_version": "1.2.0",
            "_model_name": "LayoutModel",
            "_view_count": null,
            "_view_module": "@jupyter-widgets/base",
            "_view_module_version": "1.2.0",
            "_view_name": "LayoutView",
            "align_content": null,
            "align_items": null,
            "align_self": null,
            "border": null,
            "bottom": null,
            "display": null,
            "flex": null,
            "flex_flow": null,
            "grid_area": null,
            "grid_auto_columns": null,
            "grid_auto_flow": null,
            "grid_auto_rows": null,
            "grid_column": null,
            "grid_gap": null,
            "grid_row": null,
            "grid_template_areas": null,
            "grid_template_columns": null,
            "grid_template_rows": null,
            "height": null,
            "justify_content": null,
            "justify_items": null,
            "left": null,
            "margin": null,
            "max_height": null,
            "max_width": null,
            "min_height": null,
            "min_width": null,
            "object_fit": null,
            "object_position": null,
            "order": null,
            "overflow": null,
            "overflow_x": null,
            "overflow_y": null,
            "padding": null,
            "right": null,
            "top": null,
            "visibility": null,
            "width": null
          }
        },
        "f7b86a0716a2459bbc48ae4037c4f8e9": {
          "model_module": "@jupyter-widgets/base",
          "model_name": "LayoutModel",
          "model_module_version": "1.2.0",
          "state": {
            "_model_module": "@jupyter-widgets/base",
            "_model_module_version": "1.2.0",
            "_model_name": "LayoutModel",
            "_view_count": null,
            "_view_module": "@jupyter-widgets/base",
            "_view_module_version": "1.2.0",
            "_view_name": "LayoutView",
            "align_content": null,
            "align_items": null,
            "align_self": null,
            "border": null,
            "bottom": null,
            "display": null,
            "flex": null,
            "flex_flow": null,
            "grid_area": null,
            "grid_auto_columns": null,
            "grid_auto_flow": null,
            "grid_auto_rows": null,
            "grid_column": null,
            "grid_gap": null,
            "grid_row": null,
            "grid_template_areas": null,
            "grid_template_columns": null,
            "grid_template_rows": null,
            "height": null,
            "justify_content": null,
            "justify_items": null,
            "left": null,
            "margin": null,
            "max_height": null,
            "max_width": null,
            "min_height": null,
            "min_width": null,
            "object_fit": null,
            "object_position": null,
            "order": null,
            "overflow": null,
            "overflow_x": null,
            "overflow_y": null,
            "padding": null,
            "right": null,
            "top": null,
            "visibility": null,
            "width": null
          }
        },
        "0e105b2be6114fbaa802afe968f3678e": {
          "model_module": "@jupyter-widgets/controls",
          "model_name": "DescriptionStyleModel",
          "model_module_version": "1.5.0",
          "state": {
            "_model_module": "@jupyter-widgets/controls",
            "_model_module_version": "1.5.0",
            "_model_name": "DescriptionStyleModel",
            "_view_count": null,
            "_view_module": "@jupyter-widgets/base",
            "_view_module_version": "1.2.0",
            "_view_name": "StyleView",
            "description_width": ""
          }
        },
        "4f2584f6d1734210968fcc45ab6c8697": {
          "model_module": "@jupyter-widgets/base",
          "model_name": "LayoutModel",
          "model_module_version": "1.2.0",
          "state": {
            "_model_module": "@jupyter-widgets/base",
            "_model_module_version": "1.2.0",
            "_model_name": "LayoutModel",
            "_view_count": null,
            "_view_module": "@jupyter-widgets/base",
            "_view_module_version": "1.2.0",
            "_view_name": "LayoutView",
            "align_content": null,
            "align_items": null,
            "align_self": null,
            "border": null,
            "bottom": null,
            "display": null,
            "flex": null,
            "flex_flow": null,
            "grid_area": null,
            "grid_auto_columns": null,
            "grid_auto_flow": null,
            "grid_auto_rows": null,
            "grid_column": null,
            "grid_gap": null,
            "grid_row": null,
            "grid_template_areas": null,
            "grid_template_columns": null,
            "grid_template_rows": null,
            "height": null,
            "justify_content": null,
            "justify_items": null,
            "left": null,
            "margin": null,
            "max_height": null,
            "max_width": null,
            "min_height": null,
            "min_width": null,
            "object_fit": null,
            "object_position": null,
            "order": null,
            "overflow": null,
            "overflow_x": null,
            "overflow_y": null,
            "padding": null,
            "right": null,
            "top": null,
            "visibility": null,
            "width": null
          }
        },
        "618acda9ea0c42f785bacb09ac358374": {
          "model_module": "@jupyter-widgets/controls",
          "model_name": "ProgressStyleModel",
          "model_module_version": "1.5.0",
          "state": {
            "_model_module": "@jupyter-widgets/controls",
            "_model_module_version": "1.5.0",
            "_model_name": "ProgressStyleModel",
            "_view_count": null,
            "_view_module": "@jupyter-widgets/base",
            "_view_module_version": "1.2.0",
            "_view_name": "StyleView",
            "bar_color": null,
            "description_width": ""
          }
        },
        "8ba958a2f48240c4be140c1c77bff53d": {
          "model_module": "@jupyter-widgets/base",
          "model_name": "LayoutModel",
          "model_module_version": "1.2.0",
          "state": {
            "_model_module": "@jupyter-widgets/base",
            "_model_module_version": "1.2.0",
            "_model_name": "LayoutModel",
            "_view_count": null,
            "_view_module": "@jupyter-widgets/base",
            "_view_module_version": "1.2.0",
            "_view_name": "LayoutView",
            "align_content": null,
            "align_items": null,
            "align_self": null,
            "border": null,
            "bottom": null,
            "display": null,
            "flex": null,
            "flex_flow": null,
            "grid_area": null,
            "grid_auto_columns": null,
            "grid_auto_flow": null,
            "grid_auto_rows": null,
            "grid_column": null,
            "grid_gap": null,
            "grid_row": null,
            "grid_template_areas": null,
            "grid_template_columns": null,
            "grid_template_rows": null,
            "height": null,
            "justify_content": null,
            "justify_items": null,
            "left": null,
            "margin": null,
            "max_height": null,
            "max_width": null,
            "min_height": null,
            "min_width": null,
            "object_fit": null,
            "object_position": null,
            "order": null,
            "overflow": null,
            "overflow_x": null,
            "overflow_y": null,
            "padding": null,
            "right": null,
            "top": null,
            "visibility": null,
            "width": null
          }
        },
        "4c6db8a4f6c94cd9b6a56055c94f4a16": {
          "model_module": "@jupyter-widgets/controls",
          "model_name": "DescriptionStyleModel",
          "model_module_version": "1.5.0",
          "state": {
            "_model_module": "@jupyter-widgets/controls",
            "_model_module_version": "1.5.0",
            "_model_name": "DescriptionStyleModel",
            "_view_count": null,
            "_view_module": "@jupyter-widgets/base",
            "_view_module_version": "1.2.0",
            "_view_name": "StyleView",
            "description_width": ""
          }
        }
      }
    }
  },
  "cells": [
    {
      "cell_type": "markdown",
      "source": [
        "# 1. Install and Import Baseline Dependancies"
      ],
      "metadata": {
        "id": "olrpfkniNTE4"
      }
    },
    {
      "cell_type": "code",
      "execution_count": 1,
      "metadata": {
        "colab": {
          "base_uri": "https://localhost:8080/"
        },
        "id": "Q9bEIvDAHNh2",
        "outputId": "a64b062c-b64a-484c-cf39-4450ba695b91"
      },
      "outputs": [
        {
          "output_type": "stream",
          "name": "stdout",
          "text": [
            "Looking in indexes: https://pypi.org/simple, https://us-python.pkg.dev/colab-wheels/public/simple/\n",
            "Collecting transformers\n",
            "  Downloading transformers-4.21.0-py3-none-any.whl (4.7 MB)\n",
            "\u001b[K     |████████████████████████████████| 4.7 MB 28.4 MB/s \n",
            "\u001b[?25hRequirement already satisfied: packaging>=20.0 in /usr/local/lib/python3.7/dist-packages (from transformers) (21.3)\n",
            "Collecting huggingface-hub<1.0,>=0.1.0\n",
            "  Downloading huggingface_hub-0.8.1-py3-none-any.whl (101 kB)\n",
            "\u001b[K     |████████████████████████████████| 101 kB 7.0 MB/s \n",
            "\u001b[?25hRequirement already satisfied: tqdm>=4.27 in /usr/local/lib/python3.7/dist-packages (from transformers) (4.64.0)\n",
            "Requirement already satisfied: importlib-metadata in /usr/local/lib/python3.7/dist-packages (from transformers) (4.12.0)\n",
            "Collecting pyyaml>=5.1\n",
            "  Downloading PyYAML-6.0-cp37-cp37m-manylinux_2_5_x86_64.manylinux1_x86_64.manylinux_2_12_x86_64.manylinux2010_x86_64.whl (596 kB)\n",
            "\u001b[K     |████████████████████████████████| 596 kB 13.6 MB/s \n",
            "\u001b[?25hRequirement already satisfied: filelock in /usr/local/lib/python3.7/dist-packages (from transformers) (3.7.1)\n",
            "Requirement already satisfied: requests in /usr/local/lib/python3.7/dist-packages (from transformers) (2.23.0)\n",
            "Requirement already satisfied: regex!=2019.12.17 in /usr/local/lib/python3.7/dist-packages (from transformers) (2022.6.2)\n",
            "Requirement already satisfied: numpy>=1.17 in /usr/local/lib/python3.7/dist-packages (from transformers) (1.21.6)\n",
            "Collecting tokenizers!=0.11.3,<0.13,>=0.11.1\n",
            "  Downloading tokenizers-0.12.1-cp37-cp37m-manylinux_2_12_x86_64.manylinux2010_x86_64.whl (6.6 MB)\n",
            "\u001b[K     |████████████████████████████████| 6.6 MB 53.0 MB/s \n",
            "\u001b[?25hRequirement already satisfied: typing-extensions>=3.7.4.3 in /usr/local/lib/python3.7/dist-packages (from huggingface-hub<1.0,>=0.1.0->transformers) (4.1.1)\n",
            "Requirement already satisfied: pyparsing!=3.0.5,>=2.0.2 in /usr/local/lib/python3.7/dist-packages (from packaging>=20.0->transformers) (3.0.9)\n",
            "Requirement already satisfied: zipp>=0.5 in /usr/local/lib/python3.7/dist-packages (from importlib-metadata->transformers) (3.8.1)\n",
            "Requirement already satisfied: certifi>=2017.4.17 in /usr/local/lib/python3.7/dist-packages (from requests->transformers) (2022.6.15)\n",
            "Requirement already satisfied: idna<3,>=2.5 in /usr/local/lib/python3.7/dist-packages (from requests->transformers) (2.10)\n",
            "Requirement already satisfied: chardet<4,>=3.0.2 in /usr/local/lib/python3.7/dist-packages (from requests->transformers) (3.0.4)\n",
            "Requirement already satisfied: urllib3!=1.25.0,!=1.25.1,<1.26,>=1.21.1 in /usr/local/lib/python3.7/dist-packages (from requests->transformers) (1.24.3)\n",
            "Installing collected packages: pyyaml, tokenizers, huggingface-hub, transformers\n",
            "  Attempting uninstall: pyyaml\n",
            "    Found existing installation: PyYAML 3.13\n",
            "    Uninstalling PyYAML-3.13:\n",
            "      Successfully uninstalled PyYAML-3.13\n",
            "Successfully installed huggingface-hub-0.8.1 pyyaml-6.0 tokenizers-0.12.1 transformers-4.21.0\n"
          ]
        }
      ],
      "source": [
        "!pip install transformers"
      ]
    },
    {
      "cell_type": "code",
      "source": [
        "!pip install SentencePiece"
      ],
      "metadata": {
        "colab": {
          "base_uri": "https://localhost:8080/"
        },
        "id": "Jvl3jKEyHc9x",
        "outputId": "2ccd47a6-6266-464f-83ac-c21e9c398f64"
      },
      "execution_count": 2,
      "outputs": [
        {
          "output_type": "stream",
          "name": "stdout",
          "text": [
            "Looking in indexes: https://pypi.org/simple, https://us-python.pkg.dev/colab-wheels/public/simple/\n",
            "Collecting SentencePiece\n",
            "  Downloading sentencepiece-0.1.96-cp37-cp37m-manylinux_2_17_x86_64.manylinux2014_x86_64.whl (1.2 MB)\n",
            "\u001b[K     |████████████████████████████████| 1.2 MB 29.7 MB/s \n",
            "\u001b[?25hInstalling collected packages: SentencePiece\n",
            "Successfully installed SentencePiece-0.1.96\n"
          ]
        }
      ]
    },
    {
      "cell_type": "code",
      "source": [
        "from transformers import AutoTokenizer, AutoModelForSeq2SeqLM\n",
        "from bs4 import BeautifulSoup\n",
        "import requests"
      ],
      "metadata": {
        "id": "1061JRhTHO9r"
      },
      "execution_count": 3,
      "outputs": []
    },
    {
      "cell_type": "markdown",
      "source": [
        "# 2. Setup Summarization Model"
      ],
      "metadata": {
        "id": "iaIsQ6ITNhsV"
      }
    },
    {
      "cell_type": "code",
      "source": [
        "tokenizer = AutoTokenizer.from_pretrained(\"human-centered-summarization/financial-summarization-pegasus\")\n",
        "model = AutoModelForSeq2SeqLM.from_pretrained(\"human-centered-summarization/financial-summarization-pegasus\")"
      ],
      "metadata": {
        "colab": {
          "base_uri": "https://localhost:8080/",
          "height": 177,
          "referenced_widgets": [
            "a8bf158a56b143a9bb429a89e50c6f6e",
            "0105eb4be1ec4282b9bb9c08c3236a60",
            "09e5e225a3134f7d801bc83ba180e334",
            "ebfe629455e84cba9eb0aa1ed274ae02",
            "f3f8083b4f084627a9386a747a8c1832",
            "df935903af314660ad863b41f2ab04a5",
            "2c5f86153df84c20939a699471a83fdd",
            "f37cba8d3e6a4ed096be9e2a42cfefad",
            "5a2de7523c0e4c809ed0f3f2e3b8fb63",
            "4c82f60b27944d64bc8d097979fb6779",
            "7e3f90b0a67a47aba63d7e7dda1c1be3",
            "525c5abdd963497a851aa934fed36af9",
            "1894385522754181abb8c14408e92b44",
            "37096984c0d3455f85d9d6463b9baed1",
            "42c13b05862d43d9b1ab5b6a0f401b65",
            "004f0876b58a4fefbb2a1674551dff5a",
            "e1436262e83a4836a4a18ae58c3cbfc8",
            "9cee3bc1980149cf8a65bc9b6b7637b6",
            "70016f1e0bb3437e850edad575b4c112",
            "2873b44fbb8c4d6c81549ab686b288a8",
            "f10ef96da28d42b7a12e7c48291f5d17",
            "d771712f058a417995c15ba820550f3e",
            "2e291237377f4a8b9aeb527c8f2f3413",
            "87ae4d1f5df140d5b67b440bb161cc33",
            "ed7fb10cd76c4da0b3e8da6f654ab279",
            "d2b2cc92ef984779a93a5c03391870b9",
            "5e7aa05be26244488bcc4cf93ffbbe11",
            "8bb0c6815f0c4aa28a0395d6ae3c5225",
            "680cfd0b63bb4ce292ad1671e9f8f1ab",
            "606b9a1e44e14b3ab7bae053cbfc60c3",
            "c6b1f788e4384873b08f29e8fcf5bec2",
            "ea60781cd81449388572d6c4c5aa1344",
            "719f4a71e952496c9d0221d8e6f3844f",
            "3227143296fa4ff387f5bb6d5f99b246",
            "1a64325bb0fb49ef89fdf95547b90993",
            "cd638f01b8404340b51ba404a663e2a3",
            "b2cf647d0f57445baf1b3d85cbbb13c0",
            "213b744a26004c26a52500c22933b7ef",
            "86f92937a7c348e9ada648cf40d51f01",
            "64d03a1f972e4be097e2be2112af7334",
            "4639e6d8b59343568949b7a862424257",
            "d2929aa6c0d241c7926968bc06364c68",
            "9ed2ffacc368417aa9e1dc5d4e045438",
            "1cf8e09e6c12465da0bb7c5cb05927ca",
            "d9dfbf4cab984ccf9e4ffb5b83c35255",
            "641a595a49b943c1b8c4b17272b94a1f",
            "d36d61281c974e919d947bbf77d6ad25",
            "5338a98a7c134de1a5b1817bc59de10c",
            "993f6ea37ee241859be0ce3d6ca4b712",
            "e7114385159243dfa9c3988b8fc8cb62",
            "760619b0fd1d46dfa9a133e4a293e21f",
            "deb4a3e048c84c0b83d39df070ac19c8",
            "f03678b7b3f94584a1915bdcb337731f",
            "3f93517686d84d0d974816f962170562",
            "29b1d2a86b4d483fb7a850999db72cf3"
          ]
        },
        "id": "_6uBpK3cHUst",
        "outputId": "9ad08f1f-576c-4d25-ad06-90cca9c7e33e"
      },
      "execution_count": 4,
      "outputs": [
        {
          "output_type": "display_data",
          "data": {
            "text/plain": [
              "Downloading tokenizer_config.json:   0%|          | 0.00/1.40k [00:00<?, ?B/s]"
            ],
            "application/vnd.jupyter.widget-view+json": {
              "version_major": 2,
              "version_minor": 0,
              "model_id": "a8bf158a56b143a9bb429a89e50c6f6e"
            }
          },
          "metadata": {}
        },
        {
          "output_type": "display_data",
          "data": {
            "text/plain": [
              "Downloading config.json:   0%|          | 0.00/1.24k [00:00<?, ?B/s]"
            ],
            "application/vnd.jupyter.widget-view+json": {
              "version_major": 2,
              "version_minor": 0,
              "model_id": "525c5abdd963497a851aa934fed36af9"
            }
          },
          "metadata": {}
        },
        {
          "output_type": "display_data",
          "data": {
            "text/plain": [
              "Downloading spiece.model:   0%|          | 0.00/1.82M [00:00<?, ?B/s]"
            ],
            "application/vnd.jupyter.widget-view+json": {
              "version_major": 2,
              "version_minor": 0,
              "model_id": "2e291237377f4a8b9aeb527c8f2f3413"
            }
          },
          "metadata": {}
        },
        {
          "output_type": "display_data",
          "data": {
            "text/plain": [
              "Downloading special_tokens_map.json:   0%|          | 0.00/1.31k [00:00<?, ?B/s]"
            ],
            "application/vnd.jupyter.widget-view+json": {
              "version_major": 2,
              "version_minor": 0,
              "model_id": "3227143296fa4ff387f5bb6d5f99b246"
            }
          },
          "metadata": {}
        },
        {
          "output_type": "display_data",
          "data": {
            "text/plain": [
              "Downloading pytorch_model.bin:   0%|          | 0.00/2.12G [00:00<?, ?B/s]"
            ],
            "application/vnd.jupyter.widget-view+json": {
              "version_major": 2,
              "version_minor": 0,
              "model_id": "d9dfbf4cab984ccf9e4ffb5b83c35255"
            }
          },
          "metadata": {}
        }
      ]
    },
    {
      "cell_type": "markdown",
      "source": [
        "# 3. Summarize a Single Article"
      ],
      "metadata": {
        "id": "BPpFwrLhNpdc"
      }
    },
    {
      "cell_type": "code",
      "source": [
        "#@title\n",
        "url = \"https://finance.yahoo.com/news/meta-falls-sales-miss-estimates-201332508.html?.tsrc=fin-srch\"\n",
        "r = requests.get(url)\n",
        "soup = BeautifulSoup(r.text, 'html.parser')\n",
        "paragraphs = soup.find_all('p')\n"
      ],
      "metadata": {
        "id": "98Ud_UEsHYcI"
      },
      "execution_count": 21,
      "outputs": []
    },
    {
      "cell_type": "code",
      "source": [
        "paragraphs[0].text"
      ],
      "metadata": {
        "colab": {
          "base_uri": "https://localhost:8080/",
          "height": 53
        },
        "id": "cqXXe_UONFSc",
        "outputId": "1f228e5c-4952-4f67-b6a0-b4d84e188194"
      },
      "execution_count": 22,
      "outputs": [
        {
          "output_type": "execute_result",
          "data": {
            "text/plain": [
              "'(Bloomberg) -- Meta Platforms Inc., the social media giant that includes Facebook and Instagram, reported its first-ever quarterly sales decline, citing advertisers’ shrinking budgets.'"
            ],
            "application/vnd.google.colaboratory.intrinsic+json": {
              "type": "string"
            }
          },
          "metadata": {},
          "execution_count": 22
        }
      ]
    },
    {
      "cell_type": "code",
      "source": [
        "text = [paragraph.text for paragraph in paragraphs]\n",
        "words = ' '.join(text).split(' ')[:400]\n",
        "ARTICLE = ' '.join(words)"
      ],
      "metadata": {
        "id": "KJ_FAngaNH1W"
      },
      "execution_count": 23,
      "outputs": []
    },
    {
      "cell_type": "code",
      "source": [
        "ARTICLE"
      ],
      "metadata": {
        "colab": {
          "base_uri": "https://localhost:8080/",
          "height": 214
        },
        "id": "lfs3wI-PNui3",
        "outputId": "c94b868f-3996-451a-f67b-b975d7e665fd"
      },
      "execution_count": 24,
      "outputs": [
        {
          "output_type": "execute_result",
          "data": {
            "text/plain": [
              "'(Bloomberg) -- Meta Platforms Inc., the social media giant that includes Facebook and Instagram, reported its first-ever quarterly sales decline, citing advertisers’ shrinking budgets. Most Read from Bloomberg Rockstar Games Cleaned Up Its Frat-Boy Culture — and Grand Theft Auto, Too Fed Hikes 75 Basis Points Second Time, Signals Third Is Possible Biden Considers New Pause on Paying Back Student Loans, $10,000 Relief US Economy Shrinks for a Second Quarter, Fueling Recession Fears Fed Watchers Say Markets Got It All Wrong on Powell ‘Pivot’ Meta revenue slipped to $28.8 billion in the second quarter, missing the $28.9 billion average analyst estimate. The company’s forecast for the current period also fell short. The shares fell as much as 8.7%, the biggest drop in two months. The company’s advertising sales efforts are hitting a number of snags. Marketers are spending less due to various economic pressures, leaving Meta and its peers to compete for the smaller budgets. Apple Inc.’s privacy rules have made ads on Facebook and Instagram less effective. Meanwhile, in an effort to compete with TikTok, the social networks have been showing more users short-form videos called Reels, a format advertisers are still becoming comfortable with. It’s not making as much money off of that attention. Revenue for the current quarter will be $26 billion to $28.5 billion, falling short of the $30.3 billion analyst estimate, the company said Wednesday in a statement. “We seem to have entered an economic downturn that will have a broad impact on the digital advertising business,” Chief Executive Officer Mark Zuckerberg said on the earnings call. “The situation seems worse than it did a quarter ago.” Every day, 2.88 billion people are using one of Meta’s social networks, slightly below the 2.91 billion average analyst estimate. Meta is undergoing a period of immense change, with Zuckerberg trying to rally his employees to work more diligently to retain users, attract young people and prevent a migration to ByteDance Ltd.’s popular TikTok app. Meta put more Reels in its apps, and started paying creators to post them. The company also made a significant change to the social apps’ algorithms, to focus on showing people new kinds of content from those they don’t follow. Right now about 15% of the content in a Facebook users’ feed is from accounts they don’t follow; on Instagram, the percentage is higher. Meta said the proportion will more than double by'"
            ],
            "application/vnd.google.colaboratory.intrinsic+json": {
              "type": "string"
            }
          },
          "metadata": {},
          "execution_count": 24
        }
      ]
    },
    {
      "cell_type": "code",
      "source": [
        "input_ids = tokenizer.encode(ARTICLE, return_tensors='pt')\n",
        "output = model.generate(input_ids, max_length=55, num_beams=5, early_stopping=True)\n",
        "summary = tokenizer.decode(output[0], skip_special_tokens=True)"
      ],
      "metadata": {
        "id": "-1MsmHXZNvtR"
      },
      "execution_count": 25,
      "outputs": []
    },
    {
      "cell_type": "code",
      "source": [
        "summary"
      ],
      "metadata": {
        "colab": {
          "base_uri": "https://localhost:8080/",
          "height": 53
        },
        "id": "pPiimd7fN1xf",
        "outputId": "d430e213-6593-4f56-e5b5-2c4d02f15cf0"
      },
      "execution_count": 26,
      "outputs": [
        {
          "output_type": "execute_result",
          "data": {
            "text/plain": [
              "'Shares fall as much as 8.7%, the biggest drop in two months. Revenue for the current quarter will be $26 billion to $28.5 billion'"
            ],
            "application/vnd.google.colaboratory.intrinsic+json": {
              "type": "string"
            }
          },
          "metadata": {},
          "execution_count": 26
        }
      ]
    },
    {
      "cell_type": "markdown",
      "source": [
        "# 4. Building a news and Sentiment Pipeline"
      ],
      "metadata": {
        "id": "hzLclDZdN9D5"
      }
    },
    {
      "cell_type": "code",
      "source": [
        "monitored_tickers = ['AAPL', 'JPM', 'BTC']"
      ],
      "metadata": {
        "id": "LKlHMRuQN3-F"
      },
      "execution_count": 11,
      "outputs": []
    },
    {
      "cell_type": "markdown",
      "source": [
        "## Searching for news on google and yahoo finance"
      ],
      "metadata": {
        "id": "gg-_48ISQm_c"
      }
    },
    {
      "cell_type": "code",
      "source": [
        "def search_for_stock_news_urls(ticker):\n",
        "    search_url = \"https://www.google.com/search?q=yahoo+finance+{}&tbm=nws\".format(ticker)\n",
        "    r = requests.get(search_url)\n",
        "    soup = BeautifulSoup(r.text, 'html.parser')\n",
        "    atags = soup.find_all('a')\n",
        "    hrefs = [link['href'] for link in atags]\n",
        "    return hrefs "
      ],
      "metadata": {
        "id": "q4rIpf1WQq4Z"
      },
      "execution_count": 12,
      "outputs": []
    },
    {
      "cell_type": "code",
      "source": [
        "raw_urls = {ticker:search_for_stock_news_urls(ticker) for ticker in monitored_tickers}"
      ],
      "metadata": {
        "id": "jK530NYRRmOq"
      },
      "execution_count": 13,
      "outputs": []
    },
    {
      "cell_type": "markdown",
      "source": [
        "## Strip out unwated URLs"
      ],
      "metadata": {
        "id": "vDQr_odASKIS"
      }
    },
    {
      "cell_type": "code",
      "source": [
        "import re"
      ],
      "metadata": {
        "id": "2b4EHiS5R_mF"
      },
      "execution_count": 14,
      "outputs": []
    },
    {
      "cell_type": "code",
      "source": [
        "exclude_list = ['maps', 'policies', 'preferences', 'accounts', 'support']"
      ],
      "metadata": {
        "id": "Oh0CqqpjSPYj"
      },
      "execution_count": 15,
      "outputs": []
    },
    {
      "cell_type": "code",
      "source": [
        "def strip_unwanted_urls(urls, exclude_list):\n",
        "    val = []\n",
        "    for url in urls: \n",
        "        if 'https://' in url and not any(exclude_word in url for exclude_word in exclude_list):\n",
        "            res = re.findall(r'(https?://\\S+)', url)[0].split('&')[0]\n",
        "            val.append(res)\n",
        "    return list(set(val))"
      ],
      "metadata": {
        "id": "2h18BV_2SQ7Q"
      },
      "execution_count": 16,
      "outputs": []
    },
    {
      "cell_type": "code",
      "source": [
        "cleaned_urls = {ticker:strip_unwanted_urls(raw_urls[ticker], exclude_list) for ticker in monitored_tickers}"
      ],
      "metadata": {
        "id": "zXY8-U5lSSKy"
      },
      "execution_count": 17,
      "outputs": []
    },
    {
      "cell_type": "markdown",
      "source": [
        "## Search and Scrape Cleaned URLs"
      ],
      "metadata": {
        "id": "rKI3jp24Tbj_"
      }
    },
    {
      "cell_type": "code",
      "source": [
        "def scrape_and_process(URLs):\n",
        "    ARTICLES = []\n",
        "    for url in URLs: \n",
        "        r = requests.get(url)\n",
        "        soup = BeautifulSoup(r.text, 'html.parser')\n",
        "        paragraphs = soup.find_all('p')\n",
        "        text = [paragraph.text for paragraph in paragraphs]\n",
        "        words = ' '.join(text).split(' ')[:350]\n",
        "        ARTICLE = ' '.join(words)\n",
        "        ARTICLES.append(ARTICLE)\n",
        "    return ARTICLES"
      ],
      "metadata": {
        "id": "wahs6IFJSTkC"
      },
      "execution_count": 18,
      "outputs": []
    },
    {
      "cell_type": "code",
      "source": [
        "articles = {ticker:scrape_and_process(cleaned_urls[ticker]) for ticker in monitored_tickers}"
      ],
      "metadata": {
        "id": "26QBpMQ0Teqr"
      },
      "execution_count": 19,
      "outputs": []
    },
    {
      "cell_type": "code",
      "source": [
        "len(articles['JPM'])"
      ],
      "metadata": {
        "colab": {
          "base_uri": "https://localhost:8080/"
        },
        "id": "uf-ipI5iTi4U",
        "outputId": "69b399c5-9e04-4b65-98ed-caa02c9c28bc"
      },
      "execution_count": 20,
      "outputs": [
        {
          "output_type": "execute_result",
          "data": {
            "text/plain": [
              "10"
            ]
          },
          "metadata": {},
          "execution_count": 20
        }
      ]
    },
    {
      "cell_type": "code",
      "source": [
        "def summarize(articles):\n",
        "    summaries = []\n",
        "    for article in articles:\n",
        "        input_ids = tokenizer.encode(article, return_tensors='pt')\n",
        "        output = model.generate(input_ids, max_length=55, num_beams=5, early_stopping=True)\n",
        "        summary = tokenizer.decode(output[0], skip_special_tokens=True)\n",
        "        summaries.append(summary)\n",
        "    return summaries\n"
      ],
      "metadata": {
        "id": "anAbfGypULtm"
      },
      "execution_count": 27,
      "outputs": []
    },
    {
      "cell_type": "code",
      "source": [
        "summaries = {ticker:summarize(articles[ticker]) for ticker in monitored_tickers}\n",
        "summaries"
      ],
      "metadata": {
        "colab": {
          "base_uri": "https://localhost:8080/"
        },
        "id": "R8OedkHNc3LP",
        "outputId": "e4982030-87e0-4fee-d325-d6122f0ed38c"
      },
      "execution_count": 28,
      "outputs": [
        {
          "output_type": "execute_result",
          "data": {
            "text/plain": [
              "{'AAPL': ['Starbucks to buy back some of its own stock.',\n",
              "  'All images are copyrighted.',\n",
              "  'Analysts expect Apple to report slower growth than a year ago. Apple warned in April of a $4 billion to $8 billion revenue hit',\n",
              "  'The company is the world’s most valuable, with a market value of over $800 billion.',\n",
              "  'All photographs subject to copyright.',\n",
              "  'Analysts see smallest revenue increase since 2020 on China supply issues. Apple set for biggest monthly gain in almost two years',\n",
              "  'Apple says it has contributed more than $1.3 billion to projects.',\n",
              "  'Second-quarter profit jumped 56% on resilient demand. Says capex for next year to be adjusted significantly',\n",
              "  'Kim Woo-Pyeong worked for Apple since 2014 after working for Texas Instruments.',\n",
              "  'Analysts expect iPhone sales to have dropped 2.3% this quarter.'],\n",
              " 'BTC': ['We are aware of the issue and are working to resolve it.',\n",
              "  'We are aware of the issue and are working to resolve it.',\n",
              "  'Tesla sold $936 million of the cryptocurrency in the second quarter. CEO says company is open to increasing its Bitcoin holdings',\n",
              "  'Robots from Boston Dynamics could be used to search for his missing hard drive. Newport City Council has consistently denied Howells access to the landfill',\n",
              "  'He says fundamentals of the cryptocurrency are strong. Bitcoin has fallen below $20,000 for the first time since 2017',\n",
              "  'We are aware of the issue and are working to resolve it.',\n",
              "  'Largest cryptocurrency now sits at $21k, down from $24,100 one week ago.',\n",
              "  'Electric car maker booked ‘depreciation, and impairment’ charge.FASB is still in process of writing guidelines on digital assets',\n",
              "  'We are aware of the issue and are working to resolve it.',\n",
              "  'Electric carmaker says June was its highest vehicle production month. Tesla sold 75% of its Bitcoin in the quarter'],\n",
              " 'JPM': ['JPMorgan says stock dilution could drive 30% value drop. Both stocks are down about 73% and 51% this year',\n",
              "  'At least a mild recession is already in the price, JPMorgan says. S&P 500 has fully priced in recession, Kolanovic says',\n",
              "  'Inflation hit 9.1% in 12 months to June. JPMorgan’s Q2 earnings miss disappoints, but CEO backs away from ‘hurricane’',\n",
              "  'JPMorgan’s Michele says clients are returning to bonds. Pacific Investment’s Browne sees negative growth over next year',\n",
              "  'Economic advisor Ustenko has asked banks to cut ties. JPMorgan, HSBC and Citi have said they have cut back in Russia',\n",
              "  'Education tech company Nerdy among JPMorgan’s top tech picks.',\n",
              "  'Have you tried going to Newsround?',\n",
              "  \"Charles Lim to be bank's global head for quantum communications. JPMorgan has been exploring possible uses for the technology\",\n",
              "  'FT Global offers comprehensive industry coverage, in-depth industry analysis.',\n",
              "  'Bank is more optimistic about the American consumer. Main Street banks are more bullish: Wells Fargo']}"
            ]
          },
          "metadata": {},
          "execution_count": 28
        }
      ]
    },
    {
      "cell_type": "code",
      "source": [
        "summaries['JPM']"
      ],
      "metadata": {
        "colab": {
          "base_uri": "https://localhost:8080/"
        },
        "id": "IDEf0FaOc3v7",
        "outputId": "db8c589a-ab0b-4961-f84a-30b20058ecf9"
      },
      "execution_count": 29,
      "outputs": [
        {
          "output_type": "execute_result",
          "data": {
            "text/plain": [
              "['JPMorgan says stock dilution could drive 30% value drop. Both stocks are down about 73% and 51% this year',\n",
              " 'At least a mild recession is already in the price, JPMorgan says. S&P 500 has fully priced in recession, Kolanovic says',\n",
              " 'Inflation hit 9.1% in 12 months to June. JPMorgan’s Q2 earnings miss disappoints, but CEO backs away from ‘hurricane’',\n",
              " 'JPMorgan’s Michele says clients are returning to bonds. Pacific Investment’s Browne sees negative growth over next year',\n",
              " 'Economic advisor Ustenko has asked banks to cut ties. JPMorgan, HSBC and Citi have said they have cut back in Russia',\n",
              " 'Education tech company Nerdy among JPMorgan’s top tech picks.',\n",
              " 'Have you tried going to Newsround?',\n",
              " \"Charles Lim to be bank's global head for quantum communications. JPMorgan has been exploring possible uses for the technology\",\n",
              " 'FT Global offers comprehensive industry coverage, in-depth industry analysis.',\n",
              " 'Bank is more optimistic about the American consumer. Main Street banks are more bullish: Wells Fargo']"
            ]
          },
          "metadata": {},
          "execution_count": 29
        }
      ]
    },
    {
      "cell_type": "code",
      "source": [
        ""
      ],
      "metadata": {
        "id": "ffeNNEVJeJv_"
      },
      "execution_count": null,
      "outputs": []
    },
    {
      "cell_type": "markdown",
      "source": [
        "# Adding sentiment analysis"
      ],
      "metadata": {
        "id": "GZq8evC4eX6P"
      }
    },
    {
      "cell_type": "code",
      "source": [
        "from transformers import pipeline\n",
        "sentiment = pipeline('sentiment-analysis')"
      ],
      "metadata": {
        "colab": {
          "base_uri": "https://localhost:8080/",
          "height": 201,
          "referenced_widgets": [
            "4604824d8c4445fc88cae63df6d1093d",
            "ca5ef6883e394657935feaf4257c947f",
            "3ae0f36ac5ea4162b120fdab6f9a9abf",
            "5723b0edb34a4b6c80c97257b7f73828",
            "254cba1d9b064f07a712b07b3810b70b",
            "467063d420664b52819e2d186f9b0411",
            "abb97210417042e9a8314db7fa8a072f",
            "7fc8cc4347f5418a85df70c4c00642cc",
            "805b2a60ba1e4103a8889a9856945670",
            "ffd3c67affbd473986b77f19942c6314",
            "4567a120d7e846f7b217b4607a7ecc34",
            "21367f3744c449e486e85cf411c6b80c",
            "0c0b594bb67a4bd0b5a358c7d13729c0",
            "df8e886a38e94915affa106ae58b4d45",
            "8a3316408ed642c1a567571e63e9ec96",
            "80ca721b2a2f4240a778b375b0431031",
            "794e8101d8694395a6994dcfc16dec86",
            "eed814013c794992a0e46cc2504f694c",
            "0bc425b50cd44db1b38991e5cb61e4ef",
            "e0a417dc60b1416a96a9273a2abf654a",
            "1c4dd2df036c4751af153287c4624a12",
            "a2d036911098465bb08953c0b03e9133",
            "cbb39104bb4e4a8c94878156c2fd375e",
            "e97c0253b2d649b3a10deaed582600af",
            "be4ed6fe160343e89a0dde7b146f8a6b",
            "9de9a56085764841a0c77f568cbe5a75",
            "c0717506e7eb45f784eb5de16be06e35",
            "cf09042d110a45bb8c74c3a6a2a38e2b",
            "b84bfa19eea54633bf73d84836901920",
            "3874ee38ebaf44968f383f6788f4bfb0",
            "ba612003cd354f19a78387f7eb67cf06",
            "86cdb74a9acd40c696244ff8edb3e1a4",
            "82a0b9e4c839477a975c29509da17aed",
            "e469805338bd4f26978eb5c60eec29a4",
            "d027ab16d102438eabfa63d7ef60d590",
            "a8dd032d95a349c3b4896a54ae914c98",
            "b0f9dbdba3b848c48dd7dba7c175d513",
            "b8bb17c07bb544d1a95207532e8f1fd6",
            "f7b86a0716a2459bbc48ae4037c4f8e9",
            "0e105b2be6114fbaa802afe968f3678e",
            "4f2584f6d1734210968fcc45ab6c8697",
            "618acda9ea0c42f785bacb09ac358374",
            "8ba958a2f48240c4be140c1c77bff53d",
            "4c6db8a4f6c94cd9b6a56055c94f4a16"
          ]
        },
        "id": "pz8rr6BeeaOq",
        "outputId": "101eb1f0-2109-465f-d7b3-279131886d02"
      },
      "execution_count": 30,
      "outputs": [
        {
          "output_type": "stream",
          "name": "stderr",
          "text": [
            "No model was supplied, defaulted to distilbert-base-uncased-finetuned-sst-2-english and revision af0f99b (https://huggingface.co/distilbert-base-uncased-finetuned-sst-2-english).\n",
            "Using a pipeline without specifying a model name and revision in production is not recommended.\n"
          ]
        },
        {
          "output_type": "display_data",
          "data": {
            "text/plain": [
              "Downloading config.json:   0%|          | 0.00/629 [00:00<?, ?B/s]"
            ],
            "application/vnd.jupyter.widget-view+json": {
              "version_major": 2,
              "version_minor": 0,
              "model_id": "4604824d8c4445fc88cae63df6d1093d"
            }
          },
          "metadata": {}
        },
        {
          "output_type": "display_data",
          "data": {
            "text/plain": [
              "Downloading pytorch_model.bin:   0%|          | 0.00/255M [00:00<?, ?B/s]"
            ],
            "application/vnd.jupyter.widget-view+json": {
              "version_major": 2,
              "version_minor": 0,
              "model_id": "21367f3744c449e486e85cf411c6b80c"
            }
          },
          "metadata": {}
        },
        {
          "output_type": "display_data",
          "data": {
            "text/plain": [
              "Downloading tokenizer_config.json:   0%|          | 0.00/48.0 [00:00<?, ?B/s]"
            ],
            "application/vnd.jupyter.widget-view+json": {
              "version_major": 2,
              "version_minor": 0,
              "model_id": "cbb39104bb4e4a8c94878156c2fd375e"
            }
          },
          "metadata": {}
        },
        {
          "output_type": "display_data",
          "data": {
            "text/plain": [
              "Downloading vocab.txt:   0%|          | 0.00/226k [00:00<?, ?B/s]"
            ],
            "application/vnd.jupyter.widget-view+json": {
              "version_major": 2,
              "version_minor": 0,
              "model_id": "e469805338bd4f26978eb5c60eec29a4"
            }
          },
          "metadata": {}
        }
      ]
    },
    {
      "cell_type": "code",
      "source": [
        "sentiment(summaries['JPM'])"
      ],
      "metadata": {
        "colab": {
          "base_uri": "https://localhost:8080/"
        },
        "id": "wQH8ElanekdG",
        "outputId": "9f2b27c8-b8d8-4a9d-81f2-868085b730e6"
      },
      "execution_count": 31,
      "outputs": [
        {
          "output_type": "execute_result",
          "data": {
            "text/plain": [
              "[{'label': 'NEGATIVE', 'score': 0.9995884299278259},\n",
              " {'label': 'NEGATIVE', 'score': 0.9970679879188538},\n",
              " {'label': 'NEGATIVE', 'score': 0.9846699237823486},\n",
              " {'label': 'NEGATIVE', 'score': 0.9984169006347656},\n",
              " {'label': 'NEGATIVE', 'score': 0.9021440148353577},\n",
              " {'label': 'POSITIVE', 'score': 0.9971441626548767},\n",
              " {'label': 'NEGATIVE', 'score': 0.9915708303451538},\n",
              " {'label': 'POSITIVE', 'score': 0.9980789422988892},\n",
              " {'label': 'POSITIVE', 'score': 0.9989489912986755},\n",
              " {'label': 'NEGATIVE', 'score': 0.9719294905662537}]"
            ]
          },
          "metadata": {},
          "execution_count": 31
        }
      ]
    },
    {
      "cell_type": "code",
      "source": [
        "scores = {ticker:sentiment(summaries[ticker]) for ticker in monitored_tickers}\n",
        "scores"
      ],
      "metadata": {
        "colab": {
          "base_uri": "https://localhost:8080/"
        },
        "id": "wjVNZyIve2Qb",
        "outputId": "b1b0db9c-fc31-4dbb-deb4-ad75882f1915"
      },
      "execution_count": 32,
      "outputs": [
        {
          "output_type": "execute_result",
          "data": {
            "text/plain": [
              "{'AAPL': [{'label': 'NEGATIVE', 'score': 0.9938549399375916},\n",
              "  {'label': 'NEGATIVE', 'score': 0.9880996346473694},\n",
              "  {'label': 'NEGATIVE', 'score': 0.9993987083435059},\n",
              "  {'label': 'POSITIVE', 'score': 0.9997510313987732},\n",
              "  {'label': 'NEGATIVE', 'score': 0.9676677584648132},\n",
              "  {'label': 'NEGATIVE', 'score': 0.9950457811355591},\n",
              "  {'label': 'POSITIVE', 'score': 0.9944818019866943},\n",
              "  {'label': 'NEGATIVE', 'score': 0.5056257247924805},\n",
              "  {'label': 'POSITIVE', 'score': 0.9815096855163574},\n",
              "  {'label': 'NEGATIVE', 'score': 0.9994269609451294}],\n",
              " 'BTC': [{'label': 'POSITIVE', 'score': 0.9979088306427002},\n",
              "  {'label': 'POSITIVE', 'score': 0.9979088306427002},\n",
              "  {'label': 'POSITIVE', 'score': 0.9948022365570068},\n",
              "  {'label': 'NEGATIVE', 'score': 0.9995356798171997},\n",
              "  {'label': 'POSITIVE', 'score': 0.9746564626693726},\n",
              "  {'label': 'POSITIVE', 'score': 0.9979088306427002},\n",
              "  {'label': 'NEGATIVE', 'score': 0.9977815747261047},\n",
              "  {'label': 'NEGATIVE', 'score': 0.9945539236068726},\n",
              "  {'label': 'POSITIVE', 'score': 0.9979088306427002},\n",
              "  {'label': 'POSITIVE', 'score': 0.9814666509628296}],\n",
              " 'JPM': [{'label': 'NEGATIVE', 'score': 0.9995884299278259},\n",
              "  {'label': 'NEGATIVE', 'score': 0.9970679879188538},\n",
              "  {'label': 'NEGATIVE', 'score': 0.9846699237823486},\n",
              "  {'label': 'NEGATIVE', 'score': 0.9984169006347656},\n",
              "  {'label': 'NEGATIVE', 'score': 0.9021440148353577},\n",
              "  {'label': 'POSITIVE', 'score': 0.9971441626548767},\n",
              "  {'label': 'NEGATIVE', 'score': 0.9915708303451538},\n",
              "  {'label': 'POSITIVE', 'score': 0.9980789422988892},\n",
              "  {'label': 'POSITIVE', 'score': 0.9989489912986755},\n",
              "  {'label': 'NEGATIVE', 'score': 0.9719294905662537}]}"
            ]
          },
          "metadata": {},
          "execution_count": 32
        }
      ]
    },
    {
      "cell_type": "code",
      "source": [
        "print(summaries['AAPL'][9], scores['AAPL'][9]['label'], scores['AAPL'][9]['score'])"
      ],
      "metadata": {
        "colab": {
          "base_uri": "https://localhost:8080/"
        },
        "id": "jmBfrtGOfD4r",
        "outputId": "1d90af73-490e-438e-c24f-c8eff219aaa0"
      },
      "execution_count": 42,
      "outputs": [
        {
          "output_type": "stream",
          "name": "stdout",
          "text": [
            "Analysts expect iPhone sales to have dropped 2.3% this quarter. NEGATIVE 0.9994269609451294\n"
          ]
        }
      ]
    },
    {
      "cell_type": "markdown",
      "source": [
        "# Exporting results to CSV"
      ],
      "metadata": {
        "id": "-ULg5f-bftw2"
      }
    },
    {
      "cell_type": "code",
      "source": [
        "def create_output_array(summaries, scores, urls):\n",
        "    output = []\n",
        "    for ticker in monitored_tickers:\n",
        "        for counter in range(len(summaries[ticker])):\n",
        "            output_this = [\n",
        "                ticker,\n",
        "                summaries[ticker][counter],\n",
        "                scores[ticker][counter]['label'],\n",
        "                scores[ticker][counter]['score'],\n",
        "                urls[ticker][counter]\n",
        "            ]\n",
        "            output.append(output_this)\n",
        "    return output"
      ],
      "metadata": {
        "id": "fYlBeaHJfQt1"
      },
      "execution_count": 43,
      "outputs": []
    },
    {
      "cell_type": "code",
      "source": [
        "final_output = create_output_array(summaries, scores, cleaned_urls)\n",
        "final_output"
      ],
      "metadata": {
        "colab": {
          "base_uri": "https://localhost:8080/"
        },
        "id": "T1szrZXGf22m",
        "outputId": "77a6561c-dbdf-4f7b-8f01-4aa723df872e"
      },
      "execution_count": 44,
      "outputs": [
        {
          "output_type": "execute_result",
          "data": {
            "text/plain": [
              "[['AAPL',\n",
              "  'Starbucks to buy back some of its own stock.',\n",
              "  'NEGATIVE',\n",
              "  0.9938549399375916,\n",
              "  'https://www.cnbc.com/2022/07/26/bank-of-america-cuts-apple-price-target-citing-foreign-exchange-headwinds.html'],\n",
              " ['AAPL',\n",
              "  'All images are copyrighted.',\n",
              "  'NEGATIVE',\n",
              "  0.9880996346473694,\n",
              "  'https://www.investors.com/news/technology/aapl-stock-apple-earnings-fiscal-third-quarter-2022/'],\n",
              " ['AAPL',\n",
              "  'Analysts expect Apple to report slower growth than a year ago. Apple warned in April of a $4 billion to $8 billion revenue hit',\n",
              "  'NEGATIVE',\n",
              "  0.9993987083435059,\n",
              "  'https://www.cnbc.com/2022/07/26/apple-q3-2022-earnings-preview-macroeconomic-concerns-dominate.html'],\n",
              " ['AAPL',\n",
              "  'The company is the world’s most valuable, with a market value of over $800 billion.',\n",
              "  'POSITIVE',\n",
              "  0.9997510313987732,\n",
              "  'https://www.usatoday.com/story/tech/2022/07/27/who-owns-apple-biggest-shareholders/10110250002/'],\n",
              " ['AAPL',\n",
              "  'All photographs subject to copyright.',\n",
              "  'NEGATIVE',\n",
              "  0.9676677584648132,\n",
              "  'https://www.dailydot.com/irl/apple-store-tricks-device-upkeep/'],\n",
              " ['AAPL',\n",
              "  'Analysts see smallest revenue increase since 2020 on China supply issues. Apple set for biggest monthly gain in almost two years',\n",
              "  'NEGATIVE',\n",
              "  0.9950457811355591,\n",
              "  'https://finance.yahoo.com/news/apple-stock-surge-raises-stakes-094418317.html'],\n",
              " ['AAPL',\n",
              "  'Apple says it has contributed more than $1.3 billion to projects.',\n",
              "  'POSITIVE',\n",
              "  0.9944818019866943,\n",
              "  'https://appleinsider.com/articles/22/07/25/apples-25-billion-investment-in-affordable-housing-is-building-new-communities'],\n",
              " ['AAPL',\n",
              "  'Second-quarter profit jumped 56% on resilient demand. Says capex for next year to be adjusted significantly',\n",
              "  'NEGATIVE',\n",
              "  0.5056257247924805,\n",
              "  'https://finance.yahoo.com/news/sk-hynix-profit-jumps-56-001516003.html'],\n",
              " ['AAPL',\n",
              "  'Kim Woo-Pyeong worked for Apple since 2014 after working for Texas Instruments.',\n",
              "  'POSITIVE',\n",
              "  0.9815096855163574,\n",
              "  'https://www.macrumors.com/2022/07/25/apple-chip-expert-leaves-to-join-samsung/'],\n",
              " ['AAPL',\n",
              "  'Analysts expect iPhone sales to have dropped 2.3% this quarter.',\n",
              "  'NEGATIVE',\n",
              "  0.9994269609451294,\n",
              "  'https://seekingalpha.com/article/4525865-apple-stock-may-plunge'],\n",
              " ['JPM',\n",
              "  'JPMorgan says stock dilution could drive 30% value drop. Both stocks are down about 73% and 51% this year',\n",
              "  'NEGATIVE',\n",
              "  0.9995884299278259,\n",
              "  'https://www.coindesk.com/business/2022/07/25/coinbase-robinhood-shareholders-face-significant-stock-dilution-jpmorgan/'],\n",
              " ['JPM',\n",
              "  'At least a mild recession is already in the price, JPMorgan says. S&P 500 has fully priced in recession, Kolanovic says',\n",
              "  'NEGATIVE',\n",
              "  0.9970679879188538,\n",
              "  'https://markets.businessinsider.com/news/stocks/stock-market-outlook-mild-economic-recession-already-priced-in-jpmorgan-2022-7'],\n",
              " ['JPM',\n",
              "  'Inflation hit 9.1% in 12 months to June. JPMorgan’s Q2 earnings miss disappoints, but CEO backs away from ‘hurricane’',\n",
              "  'NEGATIVE',\n",
              "  0.9846699237823486,\n",
              "  'https://www.forbes.com/sites/qai/2022/07/22/inflation-rate-hikes-and-jpmorgan-earnings-forbes-ai-newsletterjuly-16th/'],\n",
              " ['JPM',\n",
              "  'JPMorgan’s Michele says clients are returning to bonds. Pacific Investment’s Browne sees negative growth over next year',\n",
              "  'NEGATIVE',\n",
              "  0.9984169006347656,\n",
              "  'https://www.investing.com/news/economy/jpmorgans-michele-says-bonds-have-recession-priced-in-2852327'],\n",
              " ['JPM',\n",
              "  'Economic advisor Ustenko has asked banks to cut ties. JPMorgan, HSBC and Citi have said they have cut back in Russia',\n",
              "  'NEGATIVE',\n",
              "  0.9021440148353577,\n",
              "  'https://www.businessinsider.com/ukraine-zelenskyy-pursue-war-crimes-charges-leaders-jpmorgan-citi-hsbc-2022-7'],\n",
              " ['JPM',\n",
              "  'Education tech company Nerdy among JPMorgan’s top tech picks.',\n",
              "  'POSITIVE',\n",
              "  0.9971441626548767,\n",
              "  'https://finance.yahoo.com/news/j-p-morgan-thinks-2-235447717.html'],\n",
              " ['JPM',\n",
              "  'Have you tried going to Newsround?',\n",
              "  'NEGATIVE',\n",
              "  0.9915708303451538,\n",
              "  'https://www.barrons.com/articles/jpmorgan-big-banks-stock-buybacks-suspend-51658270725'],\n",
              " ['JPM',\n",
              "  \"Charles Lim to be bank's global head for quantum communications. JPMorgan has been exploring possible uses for the technology\",\n",
              "  'POSITIVE',\n",
              "  0.9980789422988892,\n",
              "  'https://www.cnbc.com/2022/07/28/jpmorgan-hires-scientist-charles-lim-to-head-quantum-computing-unit.html'],\n",
              " ['JPM',\n",
              "  'FT Global offers comprehensive industry coverage, in-depth industry analysis.',\n",
              "  'POSITIVE',\n",
              "  0.9989489912986755,\n",
              "  'https://www.ft.com/content/dd51f791-2841-4ef9-9c73-0f5465926422'],\n",
              " ['JPM',\n",
              "  'Bank is more optimistic about the American consumer. Main Street banks are more bullish: Wells Fargo',\n",
              "  'NEGATIVE',\n",
              "  0.9719294905662537,\n",
              "  'https://www.cnbc.com/2022/07/19/what-a-bullish-bank-of-america-means-for-wall-street-and-the-economy.html'],\n",
              " ['BTC',\n",
              "  'We are aware of the issue and are working to resolve it.',\n",
              "  'POSITIVE',\n",
              "  0.9979088306427002,\n",
              "  'https://finance.yahoo.com/video/market-check-nasdaq-trades-lower-152225668.html'],\n",
              " ['BTC',\n",
              "  'We are aware of the issue and are working to resolve it.',\n",
              "  'POSITIVE',\n",
              "  0.9979088306427002,\n",
              "  'https://finance.yahoo.com/video/market-check-stocks-flat-open-142457049.html'],\n",
              " ['BTC',\n",
              "  'Tesla sold $936 million of the cryptocurrency in the second quarter. CEO says company is open to increasing its Bitcoin holdings',\n",
              "  'POSITIVE',\n",
              "  0.9948022365570068,\n",
              "  'https://finance.yahoo.com/news/tesla-bitcoin-sale-936-million-210114799.html'],\n",
              " ['BTC',\n",
              "  'Robots from Boston Dynamics could be used to search for his missing hard drive. Newport City Council has consistently denied Howells access to the landfill',\n",
              "  'NEGATIVE',\n",
              "  0.9995356798171997,\n",
              "  'https://finance.yahoo.com/news/man-lost-176-million-worth-112619540.html'],\n",
              " ['BTC',\n",
              "  'He says fundamentals of the cryptocurrency are strong. Bitcoin has fallen below $20,000 for the first time since 2017',\n",
              "  'POSITIVE',\n",
              "  0.9746564626693726,\n",
              "  'https://uk.finance.yahoo.com/news/bitcoin-long-term-hedge-warns-jordan-belfort-074255765.html'],\n",
              " ['BTC',\n",
              "  'We are aware of the issue and are working to resolve it.',\n",
              "  'POSITIVE',\n",
              "  0.9979088306427002,\n",
              "  'https://finance.yahoo.com/video/stocks-slip-bitcoin-rallies-following-141721400.html'],\n",
              " ['BTC',\n",
              "  'Largest cryptocurrency now sits at $21k, down from $24,100 one week ago.',\n",
              "  'NEGATIVE',\n",
              "  0.9977815747261047,\n",
              "  'https://finance.yahoo.com/news/bitcoin-price-drops-fed-rate-hike-082501518.html'],\n",
              " ['BTC',\n",
              "  'Electric car maker booked ‘depreciation, and impairment’ charge.FASB is still in process of writing guidelines on digital assets',\n",
              "  'NEGATIVE',\n",
              "  0.9945539236068726,\n",
              "  'https://finance.yahoo.com/news/tesla-bitcoin-dump-leaves-accountants-054037333.html'],\n",
              " ['BTC',\n",
              "  'We are aware of the issue and are working to resolve it.',\n",
              "  'POSITIVE',\n",
              "  0.9979088306427002,\n",
              "  'https://finance.yahoo.com/video/cryptocurrencies-down-coinbase-stock-plunges-153614221.html'],\n",
              " ['BTC',\n",
              "  'Electric carmaker says June was its highest vehicle production month. Tesla sold 75% of its Bitcoin in the quarter',\n",
              "  'POSITIVE',\n",
              "  0.9814666509628296,\n",
              "  'https://finance.yahoo.com/news/tesla-q2-earnings-2022-201008978.html']]"
            ]
          },
          "metadata": {},
          "execution_count": 44
        }
      ]
    },
    {
      "cell_type": "code",
      "source": [
        "final_output.insert(0, ['Ticker', 'Summary', 'Label', 'Confidence', 'URL'])"
      ],
      "metadata": {
        "id": "lCfUS7ryf64Z"
      },
      "execution_count": 45,
      "outputs": []
    },
    {
      "cell_type": "code",
      "source": [
        "import csv\n",
        "with open('SentimentSummaries.csv', mode='w', newline='') as f:\n",
        "    csv_writer = csv.writer(f, delimiter=',', quotechar='\"', quoting=csv.QUOTE_MINIMAL)\n",
        "    csv_writer.writerows(final_output)"
      ],
      "metadata": {
        "id": "olMrJ0fPgAeJ"
      },
      "execution_count": 47,
      "outputs": []
    },
    {
      "cell_type": "code",
      "source": [
        ""
      ],
      "metadata": {
        "id": "Jx9rVw_JgE5m"
      },
      "execution_count": null,
      "outputs": []
    }
  ]
}