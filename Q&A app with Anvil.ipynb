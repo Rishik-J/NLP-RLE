{
 "cells": [
  {
   "cell_type": "code",
   "execution_count": 1,
   "id": "2da04b59",
   "metadata": {},
   "outputs": [
    {
     "name": "stdout",
     "output_type": "stream",
     "text": [
      "Requirement already satisfied: torch in /Users/rishik/opt/anaconda3/lib/python3.9/site-packages (1.11.0)\n",
      "Requirement already satisfied: torchvision in /Users/rishik/opt/anaconda3/lib/python3.9/site-packages (0.12.0)\n",
      "Requirement already satisfied: torchaudio in /Users/rishik/opt/anaconda3/lib/python3.9/site-packages (0.11.0)\n",
      "Requirement already satisfied: typing-extensions in /Users/rishik/opt/anaconda3/lib/python3.9/site-packages (from torch) (4.1.1)\n",
      "Requirement already satisfied: requests in /Users/rishik/opt/anaconda3/lib/python3.9/site-packages (from torchvision) (2.27.1)\n",
      "Requirement already satisfied: numpy in /Users/rishik/opt/anaconda3/lib/python3.9/site-packages (from torchvision) (1.21.5)\n",
      "Requirement already satisfied: pillow!=8.3.*,>=5.3.0 in /Users/rishik/opt/anaconda3/lib/python3.9/site-packages (from torchvision) (9.0.1)\n",
      "Requirement already satisfied: certifi>=2017.4.17 in /Users/rishik/opt/anaconda3/lib/python3.9/site-packages (from requests->torchvision) (2021.10.8)\n",
      "Requirement already satisfied: urllib3<1.27,>=1.21.1 in /Users/rishik/opt/anaconda3/lib/python3.9/site-packages (from requests->torchvision) (1.26.9)\n",
      "Requirement already satisfied: idna<4,>=2.5 in /Users/rishik/opt/anaconda3/lib/python3.9/site-packages (from requests->torchvision) (3.3)\n",
      "Requirement already satisfied: charset-normalizer~=2.0.0 in /Users/rishik/opt/anaconda3/lib/python3.9/site-packages (from requests->torchvision) (2.0.4)\n"
     ]
    }
   ],
   "source": [
    "#Installing PyTorch\n",
    "!pip3 install torch torchvision torchaudio"
   ]
  },
  {
   "cell_type": "code",
   "execution_count": 2,
   "id": "e4be4844",
   "metadata": {
    "scrolled": true
   },
   "outputs": [
    {
     "name": "stdout",
     "output_type": "stream",
     "text": [
      "Requirement already satisfied: transformers in /Users/rishik/opt/anaconda3/lib/python3.9/site-packages (4.19.2)\n",
      "Requirement already satisfied: regex!=2019.12.17 in /Users/rishik/opt/anaconda3/lib/python3.9/site-packages (from transformers) (2022.3.15)\n",
      "Requirement already satisfied: numpy>=1.17 in /Users/rishik/opt/anaconda3/lib/python3.9/site-packages (from transformers) (1.21.5)\n",
      "Requirement already satisfied: requests in /Users/rishik/opt/anaconda3/lib/python3.9/site-packages (from transformers) (2.27.1)\n",
      "Requirement already satisfied: pyyaml>=5.1 in /Users/rishik/opt/anaconda3/lib/python3.9/site-packages (from transformers) (6.0)\n",
      "Requirement already satisfied: huggingface-hub<1.0,>=0.1.0 in /Users/rishik/opt/anaconda3/lib/python3.9/site-packages (from transformers) (0.7.0)\n",
      "Requirement already satisfied: filelock in /Users/rishik/opt/anaconda3/lib/python3.9/site-packages (from transformers) (3.6.0)\n",
      "Requirement already satisfied: packaging>=20.0 in /Users/rishik/opt/anaconda3/lib/python3.9/site-packages (from transformers) (21.3)\n",
      "Requirement already satisfied: tokenizers!=0.11.3,<0.13,>=0.11.1 in /Users/rishik/opt/anaconda3/lib/python3.9/site-packages (from transformers) (0.12.1)\n",
      "Requirement already satisfied: tqdm>=4.27 in /Users/rishik/opt/anaconda3/lib/python3.9/site-packages (from transformers) (4.64.0)\n",
      "Requirement already satisfied: typing-extensions>=3.7.4.3 in /Users/rishik/opt/anaconda3/lib/python3.9/site-packages (from huggingface-hub<1.0,>=0.1.0->transformers) (4.1.1)\n",
      "Requirement already satisfied: pyparsing!=3.0.5,>=2.0.2 in /Users/rishik/opt/anaconda3/lib/python3.9/site-packages (from packaging>=20.0->transformers) (3.0.4)\n",
      "Requirement already satisfied: charset-normalizer~=2.0.0 in /Users/rishik/opt/anaconda3/lib/python3.9/site-packages (from requests->transformers) (2.0.4)\n",
      "Requirement already satisfied: idna<4,>=2.5 in /Users/rishik/opt/anaconda3/lib/python3.9/site-packages (from requests->transformers) (3.3)\n",
      "Requirement already satisfied: certifi>=2017.4.17 in /Users/rishik/opt/anaconda3/lib/python3.9/site-packages (from requests->transformers) (2021.10.8)\n",
      "Requirement already satisfied: urllib3<1.27,>=1.21.1 in /Users/rishik/opt/anaconda3/lib/python3.9/site-packages (from requests->transformers) (1.26.9)\n"
     ]
    }
   ],
   "source": [
    "# Install transformers\n",
    "!pip install transformers"
   ]
  },
  {
   "cell_type": "markdown",
   "id": "9543b4aa",
   "metadata": {},
   "source": [
    "### Automodel -- Backend model for the pipline (allows us to load the model)\n",
    "\n",
    "### Tokenizer -- Converts natural langue into indvidual identifiers (tokens)\n",
    "\n",
    "### Pipleline - allows us to use the model\n"
   ]
  },
  {
   "cell_type": "code",
   "execution_count": 3,
   "id": "e08a9f90",
   "metadata": {},
   "outputs": [],
   "source": [
    "# Importing the dependencies for the RoBERTa model\n",
    "from transformers import AutoModelForQuestionAnswering, AutoTokenizer, pipeline"
   ]
  },
  {
   "cell_type": "code",
   "execution_count": 4,
   "id": "e4c3767f",
   "metadata": {},
   "outputs": [],
   "source": [
    "#Creating Q&A pipeline\n",
    "nlp_model = pipeline('question-answering', \n",
    "                     model='deepset/roberta-base-squad2',\n",
    "                     tokenizer='deepset/roberta-base-squad2'\n",
    "                    )"
   ]
  },
  {
   "cell_type": "code",
   "execution_count": 5,
   "id": "f8ba01ba",
   "metadata": {},
   "outputs": [
    {
     "data": {
      "text/plain": [
       "{'score': 0.3833312690258026,\n",
       " 'start': 231,\n",
       " 'end': 247,\n",
       " 'answer': 'a favorite uncle'}"
      ]
     },
     "execution_count": 5,
     "metadata": {},
     "output_type": "execute_result"
    }
   ],
   "source": [
    "#testing the model\n",
    "introText = \"\"\"\n",
    "Jacques Bermon Webster II (born April 30, 1991), better known by his stage name Travis Scott \n",
    "(formerly stylized as Travis $cott), is an American rapper, singer, songwriter, and record producer. \n",
    "His stage name is the namesake of a favorite uncle combined with the first name of one of his inspirations, \n",
    "Kid Cudi (whose real name is Scott Mescudi).[4] He has been nominated for eight \n",
    "Grammy Awards and won a Billboard Music Award and a Latin Grammy Award.\n",
    "\"\"\"\n",
    "question_set = {'question': 'how did Travis Scott get his name?',\n",
    "               'context': introText\n",
    "               }\n",
    "\n",
    "nlp_model(question_set)"
   ]
  },
  {
   "cell_type": "markdown",
   "id": "d913486a",
   "metadata": {},
   "source": [
    "# Connecting to Anvil"
   ]
  },
  {
   "cell_type": "code",
   "execution_count": 6,
   "id": "e73eb551",
   "metadata": {
    "scrolled": true
   },
   "outputs": [
    {
     "name": "stdout",
     "output_type": "stream",
     "text": [
      "huggingface/tokenizers: The current process just got forked, after parallelism has already been used. Disabling parallelism to avoid deadlocks...\n",
      "To disable this warning, you can either:\n",
      "\t- Avoid using `tokenizers` before the fork if possible\n",
      "\t- Explicitly set the environment variable TOKENIZERS_PARALLELISM=(true | false)\n",
      "Requirement already satisfied: anvil-uplink in /Users/rishik/opt/anaconda3/lib/python3.9/site-packages (0.3.42)\n",
      "Requirement already satisfied: six in /Users/rishik/opt/anaconda3/lib/python3.9/site-packages (from anvil-uplink) (1.16.0)\n",
      "Requirement already satisfied: future in /Users/rishik/opt/anaconda3/lib/python3.9/site-packages (from anvil-uplink) (0.18.2)\n",
      "Collecting argparse\n",
      "  Using cached argparse-1.4.0-py2.py3-none-any.whl (23 kB)\n",
      "Requirement already satisfied: ws4py in /Users/rishik/opt/anaconda3/lib/python3.9/site-packages (from anvil-uplink) (0.5.1)\n",
      "Installing collected packages: argparse\n",
      "Successfully installed argparse-1.4.0\n"
     ]
    }
   ],
   "source": [
    "!pip install anvil-uplink"
   ]
  },
  {
   "cell_type": "code",
   "execution_count": 7,
   "id": "546b8d48",
   "metadata": {},
   "outputs": [],
   "source": [
    "import anvil.server"
   ]
  },
  {
   "cell_type": "code",
   "execution_count": 8,
   "id": "4294522d",
   "metadata": {},
   "outputs": [
    {
     "name": "stdout",
     "output_type": "stream",
     "text": [
      "Connecting to wss://anvil.works/uplink\n",
      "Anvil websocket open\n",
      "Connected to \"Default environment\" as SERVER\n"
     ]
    }
   ],
   "source": [
    "anvil.server.connect(\"QKNGUXAKXV2JEANHOOVOXUZ5-R4ZTVO5GMBHLWHWJ\")"
   ]
  },
  {
   "cell_type": "markdown",
   "id": "3444f512",
   "metadata": {},
   "source": [
    "# setup Callable Fucntion"
   ]
  },
  {
   "cell_type": "code",
   "execution_count": 9,
   "id": "f351e6de",
   "metadata": {},
   "outputs": [],
   "source": [
    "@anvil.server.callable\n",
    "def answer_question(users_text, users_question):\n",
    "    \n",
    "    #convert users input into a dictionary\n",
    "    question_set = {'question': users_question,\n",
    "                    'context': users_text\n",
    "               }\n",
    "    \n",
    "    #run users input through the NLP Pipeline\n",
    "    answer = nlp_model(question_set)\n",
    "    return answer['answer']"
   ]
  },
  {
   "cell_type": "code",
   "execution_count": 10,
   "id": "476cc3a4",
   "metadata": {},
   "outputs": [
    {
     "data": {
      "text/plain": [
       "'rapper, singer, songwriter, and record producer'"
      ]
     },
     "execution_count": 10,
     "metadata": {},
     "output_type": "execute_result"
    }
   ],
   "source": [
    "answer_question(introText, 'What does Travis Scott do?')"
   ]
  },
  {
   "cell_type": "code",
   "execution_count": null,
   "id": "6d4b1aa4",
   "metadata": {},
   "outputs": [],
   "source": []
  }
 ],
 "metadata": {
  "kernelspec": {
   "display_name": "Python 3 (ipykernel)",
   "language": "python",
   "name": "python3"
  },
  "language_info": {
   "codemirror_mode": {
    "name": "ipython",
    "version": 3
   },
   "file_extension": ".py",
   "mimetype": "text/x-python",
   "name": "python",
   "nbconvert_exporter": "python",
   "pygments_lexer": "ipython3",
   "version": "3.9.12"
  }
 },
 "nbformat": 4,
 "nbformat_minor": 5
}
